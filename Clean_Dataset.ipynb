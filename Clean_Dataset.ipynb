{
 "cells": [
  {
   "cell_type": "code",
   "execution_count": 42,
   "metadata": {},
   "outputs": [
    {
     "name": "stdout",
     "output_type": "stream",
     "text": [
      "The autoreload extension is already loaded. To reload it, use:\n",
      "  %reload_ext autoreload\n"
     ]
    }
   ],
   "source": [
    "%load_ext autoreload\n",
    "%autoreload 2"
   ]
  },
  {
   "cell_type": "code",
   "execution_count": 264,
   "metadata": {},
   "outputs": [],
   "source": [
    "import pandas as pd\n",
    "import numpy as np\n",
    "from datetime import datetime\n",
    "import re\n",
    "from collections import Counter\n",
    "\n",
    "import pandas as pd\n",
    "from ipywidgets.widgets import HTML, Output, HBox, Button, Text\n",
    "from IPython.display import display, clear_output\n",
    "import json\n",
    "    \n",
    "from split import next_section_headers\n",
    "from mimic_radiology_clean import parse_radiology_report_text, parse_echo_report_text, parse_nurs_prog_notes_text, \\\n",
    "    parse_phys_prog_notes_text, parse_phys_intens_notes_text, parse_phys_attend_notes_text, parse_phys_res_attnd_adm_notes_text, \\\n",
    "    parse_phys_res_attn_micu_notes_text, parse_phys_res_attn_prog_notes_text, parse_phys_surgical_adm_notes_text, \\\n",
    "    parse_respiratory_care_shift_note"
   ]
  },
  {
   "cell_type": "code",
   "execution_count": 1057,
   "metadata": {},
   "outputs": [],
   "source": [
    "stroke_notes = pd.read_csv('../../data/43411_notes.csv')"
   ]
  },
  {
   "cell_type": "code",
   "execution_count": 4,
   "metadata": {},
   "outputs": [
    {
     "data": {
      "text/html": [
       "<div>\n",
       "<style scoped>\n",
       "    .dataframe tbody tr th:only-of-type {\n",
       "        vertical-align: middle;\n",
       "    }\n",
       "\n",
       "    .dataframe tbody tr th {\n",
       "        vertical-align: top;\n",
       "    }\n",
       "\n",
       "    .dataframe thead th {\n",
       "        text-align: right;\n",
       "    }\n",
       "</style>\n",
       "<table border=\"1\" class=\"dataframe\">\n",
       "  <thead>\n",
       "    <tr style=\"text-align: right;\">\n",
       "      <th></th>\n",
       "      <th>category</th>\n",
       "      <th>description</th>\n",
       "      <th>text</th>\n",
       "    </tr>\n",
       "  </thead>\n",
       "  <tbody>\n",
       "    <tr>\n",
       "      <th>0</th>\n",
       "      <td>Nursing</td>\n",
       "      <td>Nursing Progress Note</td>\n",
       "      <td>CVA (Stroke, Cerebral infarction), Ischemic\\n ...</td>\n",
       "    </tr>\n",
       "    <tr>\n",
       "      <th>1</th>\n",
       "      <td>Nursing</td>\n",
       "      <td>Nursing Progress Note</td>\n",
       "      <td>CVA (Stroke, Cerebral infarction), Ischemic\\n ...</td>\n",
       "    </tr>\n",
       "    <tr>\n",
       "      <th>2</th>\n",
       "      <td>Nursing</td>\n",
       "      <td>Nursing Progress Note</td>\n",
       "      <td>CVA (Stroke, Cerebral infarction), Ischemic\\n ...</td>\n",
       "    </tr>\n",
       "    <tr>\n",
       "      <th>3</th>\n",
       "      <td>Physician</td>\n",
       "      <td>Physician Surgical Admission Note</td>\n",
       "      <td>Chief Complaint: Stroke\\n   HPI:\\n    HPI: 84 ...</td>\n",
       "    </tr>\n",
       "    <tr>\n",
       "      <th>4</th>\n",
       "      <td>Nursing</td>\n",
       "      <td>Nursing Progress Note</td>\n",
       "      <td>CVA (Stroke, Cerebral infarction), Ischemic\\n ...</td>\n",
       "    </tr>\n",
       "    <tr>\n",
       "      <th>...</th>\n",
       "      <td>...</td>\n",
       "      <td>...</td>\n",
       "      <td>...</td>\n",
       "    </tr>\n",
       "    <tr>\n",
       "      <th>8208</th>\n",
       "      <td>Nursing</td>\n",
       "      <td>Nursing Progress Note</td>\n",
       "      <td>TITLE:\\n   CVA (Stroke, Cerebral infarction), ...</td>\n",
       "    </tr>\n",
       "    <tr>\n",
       "      <th>8209</th>\n",
       "      <td>Nursing</td>\n",
       "      <td>Nursing Progress Note</td>\n",
       "      <td>.H/O airway, Inability to Protect (Risk for As...</td>\n",
       "    </tr>\n",
       "    <tr>\n",
       "      <th>8210</th>\n",
       "      <td>Respiratory</td>\n",
       "      <td>Respiratory Care Shift Note</td>\n",
       "      <td>Demographics\\n   Day of intubation:\\n   Day of...</td>\n",
       "    </tr>\n",
       "    <tr>\n",
       "      <th>8211</th>\n",
       "      <td>Physician</td>\n",
       "      <td>Intensivist Note</td>\n",
       "      <td>SICU\\n   HPI:\\n   76 yo F h/o afib on Coumadin...</td>\n",
       "    </tr>\n",
       "    <tr>\n",
       "      <th>8212</th>\n",
       "      <td>Physician</td>\n",
       "      <td>Intensivist Note</td>\n",
       "      <td>SICU\\n   HPI:\\n   69 yo F w/ left cerebellar t...</td>\n",
       "    </tr>\n",
       "  </tbody>\n",
       "</table>\n",
       "<p>8213 rows × 3 columns</p>\n",
       "</div>"
      ],
      "text/plain": [
       "          category                        description  \\\n",
       "0          Nursing              Nursing Progress Note   \n",
       "1          Nursing              Nursing Progress Note   \n",
       "2          Nursing              Nursing Progress Note   \n",
       "3       Physician   Physician Surgical Admission Note   \n",
       "4          Nursing              Nursing Progress Note   \n",
       "...            ...                                ...   \n",
       "8208       Nursing              Nursing Progress Note   \n",
       "8209       Nursing              Nursing Progress Note   \n",
       "8210  Respiratory         Respiratory Care Shift Note   \n",
       "8211    Physician                    Intensivist Note   \n",
       "8212    Physician                    Intensivist Note   \n",
       "\n",
       "                                                   text  \n",
       "0     CVA (Stroke, Cerebral infarction), Ischemic\\n ...  \n",
       "1     CVA (Stroke, Cerebral infarction), Ischemic\\n ...  \n",
       "2     CVA (Stroke, Cerebral infarction), Ischemic\\n ...  \n",
       "3     Chief Complaint: Stroke\\n   HPI:\\n    HPI: 84 ...  \n",
       "4     CVA (Stroke, Cerebral infarction), Ischemic\\n ...  \n",
       "...                                                 ...  \n",
       "8208  TITLE:\\n   CVA (Stroke, Cerebral infarction), ...  \n",
       "8209  .H/O airway, Inability to Protect (Risk for As...  \n",
       "8210  Demographics\\n   Day of intubation:\\n   Day of...  \n",
       "8211  SICU\\n   HPI:\\n   76 yo F h/o afib on Coumadin...  \n",
       "8212  SICU\\n   HPI:\\n   69 yo F w/ left cerebellar t...  \n",
       "\n",
       "[8213 rows x 3 columns]"
      ]
     },
     "execution_count": 4,
     "metadata": {},
     "output_type": "execute_result"
    }
   ],
   "source": [
    "stroke_notes.loc[:, ['category', 'description', 'text']]"
   ]
  },
  {
   "cell_type": "code",
   "execution_count": 5,
   "metadata": {},
   "outputs": [],
   "source": [
    "stroke_notes['cat_desc'] = stroke_notes.category.str.cat(stroke_notes.description, sep=':')"
   ]
  },
  {
   "cell_type": "code",
   "execution_count": 5,
   "metadata": {},
   "outputs": [
    {
     "ename": "NameError",
     "evalue": "name 'stroke_notes' is not defined",
     "output_type": "error",
     "traceback": [
      "\u001b[0;31m---------------------------------------------------------------------------\u001b[0m",
      "\u001b[0;31mNameError\u001b[0m                                 Traceback (most recent call last)",
      "\u001b[0;32m<ipython-input-5-14679a9906e4>\u001b[0m in \u001b[0;36m<module>\u001b[0;34m\u001b[0m\n\u001b[0;32m----> 1\u001b[0;31m \u001b[0mstroke_notes\u001b[0m\u001b[0;34m.\u001b[0m\u001b[0mcat_desc\u001b[0m\u001b[0;34m.\u001b[0m\u001b[0munique\u001b[0m\u001b[0;34m(\u001b[0m\u001b[0;34m)\u001b[0m\u001b[0;34m\u001b[0m\u001b[0m\n\u001b[0m",
      "\u001b[0;31mNameError\u001b[0m: name 'stroke_notes' is not defined"
     ]
    }
   ],
   "source": [
    "stroke_notes.cat_desc.unique()"
   ]
  },
  {
   "cell_type": "code",
   "execution_count": 7,
   "metadata": {},
   "outputs": [],
   "source": [
    "texts = stroke_notes[stroke_notes.cat_desc == 'Discharge summary:Report'].text.str.lower().reset_index(drop=True)"
   ]
  },
  {
   "cell_type": "code",
   "execution_count": 2,
   "metadata": {},
   "outputs": [],
   "source": [
    "all_discharge_notes = pd.read_csv('/Users/tom/phd/tdy_ehr/mimic_tidy/data/notes.csv')"
   ]
  },
  {
   "cell_type": "code",
   "execution_count": 3,
   "metadata": {},
   "outputs": [],
   "source": [
    "admissions = pd.read_csv('/Users/tom/phd/tdy_ehr/mimic_tidy/data/admissions.csv')"
   ]
  },
  {
   "cell_type": "code",
   "execution_count": 4,
   "metadata": {},
   "outputs": [],
   "source": [
    "patients = pd.read_csv('/Users/tom/phd/tdy_ehr/mimic_tidy/data/patients.csv')\n",
    "patients.dob = patients.dob.apply(lambda x: datetime.strptime(x, '%Y-%m-%d %H:%M:%S'))"
   ]
  },
  {
   "cell_type": "code",
   "execution_count": 5,
   "metadata": {},
   "outputs": [],
   "source": [
    "all_discharge_notes = all_discharge_notes.merge(patients.loc[:, ['subject_id', 'dob']], 'left', 'subject_id')"
   ]
  },
  {
   "cell_type": "code",
   "execution_count": 6,
   "metadata": {},
   "outputs": [],
   "source": [
    "all_discharge_notes['chartdate'] = all_discharge_notes.chartdate.apply(lambda x: datetime.strptime(x, '%Y-%m-%d %H:%M:%S'))"
   ]
  },
  {
   "cell_type": "code",
   "execution_count": 7,
   "metadata": {},
   "outputs": [
    {
     "data": {
      "text/plain": [
       "Index(['Unnamed: 0', 'subject_id', 'hadm_id', 'chartdate', 'category',\n",
       "       'description', 'text', 'dob'],\n",
       "      dtype='object')"
      ]
     },
     "execution_count": 7,
     "metadata": {},
     "output_type": "execute_result"
    }
   ],
   "source": [
    "all_discharge_notes.columns"
   ]
  },
  {
   "cell_type": "code",
   "execution_count": 8,
   "metadata": {},
   "outputs": [],
   "source": [
    "all_discharge_notes['subject_age'] = all_discharge_notes.apply(lambda r: r.chartdate.year - r.dob.year, axis=1)"
   ]
  },
  {
   "cell_type": "code",
   "execution_count": 9,
   "metadata": {},
   "outputs": [
    {
     "name": "stderr",
     "output_type": "stream",
     "text": [
      "/Users/tom/anaconda3/envs/cattrainer/lib/python3.7/site-packages/pandas/core/strings.py:2001: UserWarning: This pattern has match groups. To actually get the groups, use str.extract.\n",
      "  return func(self, *args, **kwargs)\n"
     ]
    }
   ],
   "source": [
    "pat = [\n",
    "    '(brief hospital course:)',\n",
    "    '(hospital course:)',\n",
    "    '(concise summary of hospital course by issue/system:)',\n",
    "    '(summary of hospital course by systems:)',\n",
    "    '(hospital course by systems including pertinent laboratory\\ndata:)',\n",
    "    '(details of hospital course:)',\n",
    "]\n",
    "contains_brief_hosp_course_sec = all_discharge_notes.text.str.lower().str.contains('|'.join(pat))\n",
    "\n",
    "brief_hos_course_notes = all_discharge_notes[contains_brief_hosp_course_sec]"
   ]
  },
  {
   "cell_type": "code",
   "execution_count": 10,
   "metadata": {},
   "outputs": [],
   "source": [
    "comp_pat = re.compile('|'.join(pat), re.IGNORECASE)"
   ]
  },
  {
   "cell_type": "code",
   "execution_count": 11,
   "metadata": {},
   "outputs": [],
   "source": [
    "matches = all_discharge_notes.text.apply(lambda t: re.search(comp_pat, t))"
   ]
  },
  {
   "cell_type": "code",
   "execution_count": 12,
   "metadata": {},
   "outputs": [],
   "source": [
    "dis_notes = all_discharge_notes.loc[~pd.isna(matches)]"
   ]
  },
  {
   "cell_type": "code",
   "execution_count": 13,
   "metadata": {},
   "outputs": [],
   "source": [
    "matches = matches.loc[~pd.isna(matches)]"
   ]
  },
  {
   "cell_type": "code",
   "execution_count": 14,
   "metadata": {},
   "outputs": [
    {
     "data": {
      "text/plain": [
       "(51285,)"
      ]
     },
     "execution_count": 14,
     "metadata": {},
     "output_type": "execute_result"
    }
   ],
   "source": [
    "matches.shape"
   ]
  },
  {
   "cell_type": "code",
   "execution_count": 15,
   "metadata": {},
   "outputs": [
    {
     "name": "stderr",
     "output_type": "stream",
     "text": [
      "/Users/tom/anaconda3/envs/cattrainer/lib/python3.7/site-packages/ipykernel_launcher.py:1: SettingWithCopyWarning: \n",
      "A value is trying to be set on a copy of a slice from a DataFrame.\n",
      "Try using .loc[row_indexer,col_indexer] = value instead\n",
      "\n",
      "See the caveats in the documentation: https://pandas.pydata.org/pandas-docs/stable/user_guide/indexing.html#returning-a-view-versus-a-copy\n",
      "  \"\"\"Entry point for launching an IPython kernel.\n"
     ]
    }
   ],
   "source": [
    "dis_notes['match_start'] = matches"
   ]
  },
  {
   "cell_type": "code",
   "execution_count": 16,
   "metadata": {},
   "outputs": [
    {
     "name": "stderr",
     "output_type": "stream",
     "text": [
      "/Users/tom/anaconda3/envs/cattrainer/lib/python3.7/site-packages/ipykernel_launcher.py:1: SettingWithCopyWarning: \n",
      "A value is trying to be set on a copy of a slice from a DataFrame.\n",
      "Try using .loc[row_indexer,col_indexer] = value instead\n",
      "\n",
      "See the caveats in the documentation: https://pandas.pydata.org/pandas-docs/stable/user_guide/indexing.html#returning-a-view-versus-a-copy\n",
      "  \"\"\"Entry point for launching an IPython kernel.\n"
     ]
    }
   ],
   "source": [
    "dis_notes['hos_course_text'] = dis_notes.apply(lambda r: r.text[r.match_start.start():], axis=1)"
   ]
  },
  {
   "cell_type": "raw",
   "metadata": {},
   "source": [
    "end_delim_match = [re.search('(\\n\\n(?!#|\\*|\\d|\\s|\\[|\\().*:)', s, re.IGNORECASE) for s in samples]"
   ]
  },
  {
   "cell_type": "code",
   "execution_count": 17,
   "metadata": {},
   "outputs": [],
   "source": []
  },
  {
   "cell_type": "code",
   "execution_count": 18,
   "metadata": {},
   "outputs": [],
   "source": [
    "next_section_headers_re = re.compile('|'.join(f'({h})' for h in next_section_headers), re.IGNORECASE)"
   ]
  },
  {
   "cell_type": "code",
   "execution_count": null,
   "metadata": {},
   "outputs": [],
   "source": [
    "next_sec_matches = dis_notes['hos_course_text'].apply(lambda t: re.search(next_section_headers_re, t))"
   ]
  },
  {
   "cell_type": "code",
   "execution_count": null,
   "metadata": {},
   "outputs": [],
   "source": [
    "dis_notes['next_sec_matches'] = next_sec_matches"
   ]
  },
  {
   "cell_type": "code",
   "execution_count": null,
   "metadata": {},
   "outputs": [],
   "source": [
    "dis_notes = dis_notes[~pd.isna(dis_notes.next_sec_matches)]"
   ]
  },
  {
   "cell_type": "code",
   "execution_count": null,
   "metadata": {},
   "outputs": [],
   "source": [
    "dis_notes['hos_course_text_subsection'] = dis_notes.apply(lambda r: r.hos_course_text[0:r.next_sec_matches.start()], axis=1)"
   ]
  },
  {
   "cell_type": "code",
   "execution_count": null,
   "metadata": {},
   "outputs": [],
   "source": [
    "dis_notes.shape"
   ]
  },
  {
   "cell_type": "code",
   "execution_count": 469,
   "metadata": {},
   "outputs": [
    {
     "data": {
      "application/vnd.jupyter.widget-view+json": {
       "model_id": "89f7b48defde464ab1ff0593b6bb74e8",
       "version_major": 2,
       "version_minor": 0
      },
      "text/plain": [
       "HTML(value='<div style=\"width=100%\"><div style=\"display:inline-block;width:50%; white-space: pre-wrap; line-he…"
      ]
     },
     "metadata": {},
     "output_type": "display_data"
    }
   ],
   "source": [
    "full_sec = random_100_sample.iloc[idx].hos_course_text\n",
    "sec = random_100_sample.iloc[idx].hos_course_text_subsection\n",
    "HTML(value=f'<div style=\"width=100%\">' +\\\n",
    "     f'<div style=\"display:inline-block;width:50%; white-space: pre-wrap; line-height: 1.2\">{full_sec}</div>' +\\\n",
    "     f'<div style=\"display:inline-block;width:50%; white-space: pre-wrap; line-height: 1.2\">{sec}</div>' +\\\n",
    "     '</div>')"
   ]
  },
  {
   "cell_type": "code",
   "execution_count": null,
   "metadata": {},
   "outputs": [],
   "source": []
  },
  {
   "cell_type": "code",
   "execution_count": null,
   "metadata": {},
   "outputs": [],
   "source": [
    "# sorted(Counter([e.group(0).lower() if e is not None else '' for e in end_delim_match]).items(), key=lambda k_v: k_v[1], reverse=True) \n",
    "# set([s.groups(0)[0] for i, s in enumerate(samples_short) if s is not None ])"
   ]
  },
  {
   "cell_type": "code",
   "execution_count": null,
   "metadata": {},
   "outputs": [],
   "source": [
    "dis_notes.drop('Unnamed: 0', axis=1, inplace=True)"
   ]
  },
  {
   "cell_type": "code",
   "execution_count": 708,
   "metadata": {},
   "outputs": [],
   "source": [
    "dis_notes.reset_index(drop=True).to_csv('dis_notes_hosp_course_extracted.csv')"
   ]
  },
  {
   "cell_type": "code",
   "execution_count": null,
   "metadata": {},
   "outputs": [],
   "source": []
  },
  {
   "cell_type": "code",
   "execution_count": 20,
   "metadata": {},
   "outputs": [],
   "source": [
    "# Retrieve DataFrame\n",
    "dis_notes = pd.read_csv('dis_notes_hosp_course_extracted.csv')"
   ]
  },
  {
   "cell_type": "code",
   "execution_count": 21,
   "metadata": {},
   "outputs": [],
   "source": [
    "dis_notes.drop('Unnamed: 0', axis=1, inplace=True)"
   ]
  },
  {
   "cell_type": "code",
   "execution_count": 7,
   "metadata": {},
   "outputs": [],
   "source": [
    "# Remove:\n",
    "# - re-admissions, cases that have the same admission ID but with multiple discharge summary reports\n",
    "# - where there are addendums to exisiting reports"
   ]
  },
  {
   "cell_type": "code",
   "execution_count": 8,
   "metadata": {},
   "outputs": [],
   "source": [
    "single_adm_ids = pd.Series((dis_notes.hadm_id.value_counts() == 1).index)"
   ]
  },
  {
   "cell_type": "code",
   "execution_count": 9,
   "metadata": {},
   "outputs": [
    {
     "name": "stderr",
     "output_type": "stream",
     "text": [
      "/Users/tom/anaconda3/envs/cattrainer/lib/python3.7/site-packages/IPython/core/interactiveshell.py:3051: DtypeWarning: Columns (3) have mixed types.Specify dtype option on import or set low_memory=False.\n",
      "  interactivity=interactivity, compiler=compiler, result=result)\n"
     ]
    }
   ],
   "source": [
    "all_notes = pd.read_csv('/Users/tom/phd/tdy_ehr/mimic_tidy/data/all_notes.csv')"
   ]
  },
  {
   "cell_type": "code",
   "execution_count": 10,
   "metadata": {},
   "outputs": [],
   "source": [
    "all_notes = all_notes[all_notes.hadm_id.isin(single_adm_ids)]"
   ]
  },
  {
   "cell_type": "code",
   "execution_count": 82,
   "metadata": {},
   "outputs": [],
   "source": [
    "# remove discharge summaries\n",
    "all_notes = all_notes[all_notes.category != 'Discharge summary']"
   ]
  },
  {
   "cell_type": "code",
   "execution_count": 388,
   "metadata": {},
   "outputs": [],
   "source": [
    "# remove ECG reports\n",
    "# ECG text is pretty short and not that useful...\n",
    "all_notes = all_notes[all_notes.category != 'ECG']"
   ]
  },
  {
   "cell_type": "code",
   "execution_count": 389,
   "metadata": {},
   "outputs": [
    {
     "data": {
      "text/plain": [
       "(48142,)"
      ]
     },
     "execution_count": 389,
     "metadata": {},
     "output_type": "execute_result"
    }
   ],
   "source": [
    "all_notes.hadm_id.unique().shape"
   ]
  },
  {
   "cell_type": "code",
   "execution_count": 11,
   "metadata": {},
   "outputs": [],
   "source": [
    "# Remove:\n",
    "# - single report admissions. These are only discharge summaries so cannot be 'summarised' from other notes.\n",
    "single_note_admissions = (all_notes.hadm_id.value_counts() == 1).reset_index()\n",
    "single_note_admissions = single_note_admissions[single_note_admissions.hadm_id]['index'].reset_index(drop=True)\n",
    "all_notes = all_notes[~all_notes.hadm_id.isin(single_note_admissions)]"
   ]
  },
  {
   "cell_type": "code",
   "execution_count": 12,
   "metadata": {},
   "outputs": [],
   "source": [
    "## Might also need to pull out: History of present illness, "
   ]
  },
  {
   "cell_type": "code",
   "execution_count": 13,
   "metadata": {},
   "outputs": [],
   "source": [
    "sample_10 = dis_notes.sample(10).text"
   ]
  },
  {
   "cell_type": "code",
   "execution_count": 14,
   "metadata": {},
   "outputs": [],
   "source": [
    "hist_pat = [\n",
    "    '(History of Present Illness:)',\n",
    "    '(HISTORY OF THE PRESENT ILLNESS:)',\n",
    "    '(History:)',\n",
    "    '(ADMISSION HISTORY AND PHYSICAL:)',\n",
    "    '(PRESENT ILLNESS:)'\n",
    "]"
   ]
  },
  {
   "cell_type": "code",
   "execution_count": 15,
   "metadata": {},
   "outputs": [],
   "source": [
    "hist_pat_re = re.compile('|'.join(hist_pat), re.IGNORECASE)"
   ]
  },
  {
   "cell_type": "code",
   "execution_count": 17,
   "metadata": {},
   "outputs": [],
   "source": [
    "dis_notes['hist_of_illness_start'] = dis_notes.text.apply(lambda t: re.search(hist_pat_re, t))"
   ]
  },
  {
   "cell_type": "code",
   "execution_count": 18,
   "metadata": {},
   "outputs": [],
   "source": [
    "dis_notes['hist_of_illness_start'] = dis_notes.apply(lambda r: None if r.hist_of_illness_start is None else r.text[r.hist_of_illness_start.start():], axis=1)"
   ]
  },
  {
   "cell_type": "code",
   "execution_count": 19,
   "metadata": {},
   "outputs": [],
   "source": [
    "dis_notes['hist_of_illness_end'] = dis_notes['hist_of_illness_start'].apply(lambda t: re.search('(\\n\\n\\n?.*:)', t if t is not None else ''))"
   ]
  },
  {
   "cell_type": "code",
   "execution_count": 20,
   "metadata": {},
   "outputs": [],
   "source": [
    "dis_notes['hist_of_illness_sec'] = dis_notes.apply(lambda r: r.hist_of_illness_start[: r.hist_of_illness_end.start()] if not pd.isna(r.hist_of_illness_end) else None, axis=1) "
   ]
  },
  {
   "cell_type": "code",
   "execution_count": 21,
   "metadata": {},
   "outputs": [],
   "source": [
    "idx = 0"
   ]
  },
  {
   "cell_type": "code",
   "execution_count": null,
   "metadata": {},
   "outputs": [],
   "source": [
    "idx += 1\n",
    "print(hist_secs.iloc[idx])"
   ]
  },
  {
   "cell_type": "code",
   "execution_count": null,
   "metadata": {},
   "outputs": [],
   "source": [
    "dis_notes.columns"
   ]
  },
  {
   "cell_type": "code",
   "execution_count": null,
   "metadata": {},
   "outputs": [],
   "source": [
    "dis_notes[dis_notes.hadm_id == 175441]"
   ]
  },
  {
   "cell_type": "code",
   "execution_count": null,
   "metadata": {},
   "outputs": [],
   "source": [
    "print(dis_notes[dis_notes.hadm_id == 118785].hos_course_text_subsection.iloc[])"
   ]
  },
  {
   "cell_type": "code",
   "execution_count": 120,
   "metadata": {},
   "outputs": [
    {
     "data": {
      "text/plain": [
       "1579"
      ]
     },
     "execution_count": 120,
     "metadata": {},
     "output_type": "execute_result"
    }
   ],
   "source": [
    "len([(k,v) for k,v in Counter(dis_notes.hadm_id).items() if v > 1])"
   ]
  },
  {
   "cell_type": "code",
   "execution_count": 124,
   "metadata": {},
   "outputs": [
    {
     "data": {
      "text/plain": [
       "Index(['subject_id', 'hadm_id', 'chartdate', 'charttime', 'text', 'category',\n",
       "       'description'],\n",
       "      dtype='object')"
      ]
     },
     "execution_count": 124,
     "metadata": {},
     "output_type": "execute_result"
    }
   ],
   "source": [
    "all_notes.columns"
   ]
  },
  {
   "cell_type": "code",
   "execution_count": 35,
   "metadata": {},
   "outputs": [],
   "source": [
    "all_notes['cat:desc'] = all_notes.category.str.cat(all_notes.description, sep=':')"
   ]
  },
  {
   "cell_type": "code",
   "execution_count": 39,
   "metadata": {},
   "outputs": [
    {
     "data": {
      "text/plain": [
       "Nursing/other:Report                           639820\n",
       "Nursing:Nursing Progress Note                  186587\n",
       "Radiology:CHEST (PORTABLE AP)                  148309\n",
       "ECG:Report                                     131213\n",
       "Physician :Physician Resident Progress Note     61453\n",
       "Discharge summary:Report                        51449\n",
       "Echo:Report                                     32262\n",
       "Respiratory :Respiratory Care Shift Note        30575\n",
       "Nursing:Nursing Transfer Note                   29642\n",
       "Physician :Intensivist Note                     25378\n",
       "Name: cat:desc, dtype: int64"
      ]
     },
     "execution_count": 39,
     "metadata": {},
     "output_type": "execute_result"
    }
   ],
   "source": [
    "all_notes['cat:desc'].value_counts().head(10)"
   ]
  },
  {
   "cell_type": "code",
   "execution_count": 149,
   "metadata": {},
   "outputs": [],
   "source": [
    "chest_ap_notes = all_notes[all_notes['cat:desc'] == 'Radiology:CHEST (PORTABLE AP)'].text\n",
    "idx = 0"
   ]
  },
  {
   "cell_type": "code",
   "execution_count": 60,
   "metadata": {},
   "outputs": [],
   "source": [
    "# Final 'clean' doc to be fed into a model.\n",
    "all_notes['clean_text'] = None"
   ]
  },
  {
   "cell_type": "code",
   "execution_count": 256,
   "metadata": {},
   "outputs": [
    {
     "name": "stderr",
     "output_type": "stream",
     "text": [
      "/Users/tom/anaconda3/envs/cattrainer/lib/python3.7/site-packages/ipykernel_launcher.py:1: SettingWithCopyWarning: \n",
      "A value is trying to be set on a copy of a slice from a DataFrame.\n",
      "Try using .loc[row_indexer,col_indexer] = value instead\n",
      "\n",
      "See the caveats in the documentation: https://pandas.pydata.org/pandas-docs/stable/user_guide/indexing.html#returning-a-view-versus-a-copy\n",
      "  \"\"\"Entry point for launching an IPython kernel.\n"
     ]
    }
   ],
   "source": [
    "all_notes.loc[:, 'charttime'] = all_notes.charttime.apply(lambda x: datetime.strptime(x, '%Y-%m-%d %H:%M:%S') if type(x) == str else x)"
   ]
  },
  {
   "cell_type": "code",
   "execution_count": 258,
   "metadata": {},
   "outputs": [
    {
     "data": {
      "text/plain": [
       "0         2126-12-01 17:22:00\n",
       "1         2165-12-08 17:12:00\n",
       "2         2165-12-08 17:12:00\n",
       "3         2165-12-08 17:12:00\n",
       "4         2150-11-30 10:58:00\n",
       "                  ...        \n",
       "2083175   2150-11-29 20:18:00\n",
       "2083176   2190-12-06 10:52:00\n",
       "2083177   2190-12-06 10:52:00\n",
       "2083178   2126-12-01 17:22:00\n",
       "2083179   2203-11-01 07:54:00\n",
       "Name: charttime, Length: 1572322, dtype: datetime64[ns]"
      ]
     },
     "execution_count": 258,
     "metadata": {},
     "output_type": "execute_result"
    }
   ],
   "source": [
    "all_notes[:, 'chartdate'] = all_notes.chartdate.apply(lambda x: datetime.strptime(x, '%Y-%m-%d %H:%M:%S'))"
   ]
  },
  {
   "cell_type": "code",
   "execution_count": 763,
   "metadata": {},
   "outputs": [],
   "source": [
    "parsed_reports = parse_radiology_report_text(all_notes.loc[all_notes.category == 'Radiology'])"
   ]
  },
  {
   "cell_type": "code",
   "execution_count": 764,
   "metadata": {},
   "outputs": [
    {
     "name": "stderr",
     "output_type": "stream",
     "text": [
      "/Users/tom/anaconda3/envs/cattrainer/lib/python3.7/site-packages/pandas/core/indexing.py:1745: SettingWithCopyWarning: \n",
      "A value is trying to be set on a copy of a slice from a DataFrame.\n",
      "Try using .loc[row_indexer,col_indexer] = value instead\n",
      "\n",
      "See the caveats in the documentation: https://pandas.pydata.org/pandas-docs/stable/user_guide/indexing.html#returning-a-view-versus-a-copy\n",
      "  isetter(ilocs[0], value)\n"
     ]
    }
   ],
   "source": [
    "# only use the 'impression' sections of radiology reports\n",
    "all_notes.loc[all_notes.category == 'Radiology', 'clean_text'] = [rep[0] for rep in parsed_reports]"
   ]
  },
  {
   "cell_type": "code",
   "execution_count": 765,
   "metadata": {},
   "outputs": [],
   "source": [
    "radio_notes = all_notes.loc[all_notes.category == 'Radiology', 'clean_text']\n",
    "no_imp_radio_notes = all_notes.loc[radio_notes[pd.isna(radio_notes)].index]"
   ]
  },
  {
   "cell_type": "code",
   "execution_count": 332,
   "metadata": {},
   "outputs": [],
   "source": [
    "all_notes.to_csv('all_notes_partially_parsed.csv')"
   ]
  },
  {
   "cell_type": "code",
   "execution_count": 373,
   "metadata": {},
   "outputs": [],
   "source": [
    "echo_impressions = parse_echo_report_text(all_notes[all_notes.category == 'Echo'])\n",
    "# only use the 'impression' sections of radiology reports\n",
    "all_notes.loc[all_notes.category == 'Echo', 'clean_text'] = [rep[0] for rep in echo_impressions]"
   ]
  },
  {
   "cell_type": "code",
   "execution_count": 903,
   "metadata": {},
   "outputs": [],
   "source": [
    "nurs_prog_notes = all_notes.loc[(all_notes.category == 'Nursing') & (all_notes.description == 'Nursing Progress Note')]"
   ]
  },
  {
   "cell_type": "code",
   "execution_count": 904,
   "metadata": {},
   "outputs": [
    {
     "name": "stderr",
     "output_type": "stream",
     "text": [
      "/Users/tom/phd/summariser/clinical_sum/mimic_summarisation_clean/mimic_radiology_clean.py:18: FutureWarning: elementwise comparison failed; returning scalar instead, but in the future will perform elementwise comparison\n",
      "  else:\n"
     ]
    }
   ],
   "source": [
    "nurs_prog_reports_assessments = parse_nurs_prog_notes_text(nurs_prog_notes)"
   ]
  },
  {
   "cell_type": "code",
   "execution_count": 907,
   "metadata": {},
   "outputs": [],
   "source": [
    "assessment_reports = [rep[0].strip() for rep in nurs_prog_reports_assessments]"
   ]
  },
  {
   "cell_type": "code",
   "execution_count": 912,
   "metadata": {},
   "outputs": [],
   "source": [
    "row_idxr = (all_notes.category == 'Nursing') & (all_notes.description == 'Nursing Progress Note')\n",
    "all_notes.loc[row_idxr, 'clean_text'] = assessment_reports"
   ]
  },
  {
   "cell_type": "code",
   "execution_count": 837,
   "metadata": {},
   "outputs": [],
   "source": [
    "nurs_not_prog_notes = all_notes[(all_notes.category == 'Nursing') & (all_notes.description != 'Nursing Progress Note')]"
   ]
  },
  {
   "cell_type": "code",
   "execution_count": 943,
   "metadata": {},
   "outputs": [
    {
     "name": "stderr",
     "output_type": "stream",
     "text": [
      "/Users/tom/phd/summariser/clinical_sum/mimic_summarisation_clean/mimic_radiology_clean.py:18: FutureWarning: elementwise comparison failed; returning scalar instead, but in the future will perform elementwise comparison\n",
      "  else:\n"
     ]
    }
   ],
   "source": [
    "nurs_transfer_notes_assessments = parse_nurs_prog_notes_text(nurs_not_prog_notes[nurs_not_prog_notes.description == 'Nursing Transfer Note'])"
   ]
  },
  {
   "cell_type": "code",
   "execution_count": 948,
   "metadata": {},
   "outputs": [],
   "source": [
    "assessment_reports = [rep[0].strip() for rep in nurs_transfer_notes_assessments]"
   ]
  },
  {
   "cell_type": "code",
   "execution_count": 949,
   "metadata": {},
   "outputs": [
    {
     "name": "stderr",
     "output_type": "stream",
     "text": [
      "/Users/tom/anaconda3/envs/cattrainer/lib/python3.7/site-packages/pandas/core/indexing.py:1745: SettingWithCopyWarning: \n",
      "A value is trying to be set on a copy of a slice from a DataFrame.\n",
      "Try using .loc[row_indexer,col_indexer] = value instead\n",
      "\n",
      "See the caveats in the documentation: https://pandas.pydata.org/pandas-docs/stable/user_guide/indexing.html#returning-a-view-versus-a-copy\n",
      "  isetter(ilocs[0], value)\n"
     ]
    }
   ],
   "source": [
    "row_idxr = (all_notes.category == 'Nursing') & (all_notes.description == 'Nursing Transfer Note')\n",
    "all_notes.loc[row_idxr, 'clean_text'] = assessment_reports"
   ]
  },
  {
   "cell_type": "code",
   "execution_count": 268,
   "metadata": {},
   "outputs": [
    {
     "data": {
      "text/plain": [
       "Radiology           102964\n",
       "Nursing              35043\n",
       "Physician            10284\n",
       "Nutrition             9233\n",
       "General               8043\n",
       "Rehab Services        5343\n",
       "Social Work           2541\n",
       "Case Management        942\n",
       "Pharmacy               102\n",
       "Consult                 98\n",
       "Respiratory             42\n",
       "Echo                    12\n",
       "Name: category, dtype: int64"
      ]
     },
     "execution_count": 268,
     "metadata": {},
     "output_type": "execute_result"
    }
   ],
   "source": [
    "all_notes[pd.isna(all_notes.clean_text)].category.value_counts()"
   ]
  },
  {
   "cell_type": "code",
   "execution_count": null,
   "metadata": {},
   "outputs": [],
   "source": [
    "row_idxr = (all_notes.category == 'Physician ') & (all_notes.description == 'Physician Resident Progress Note')\n",
    "all_notes.loc[row_idxr, 'clean_text'] = [sec[0] for sec in parse_phys_prog_notes_text(all_notes.loc[row_idxr, ['text']])]"
   ]
  },
  {
   "cell_type": "code",
   "execution_count": 90,
   "metadata": {},
   "outputs": [],
   "source": [
    "all_notes.drop('Unnamed: 0', axis=1, inplace=True)"
   ]
  },
  {
   "cell_type": "code",
   "execution_count": 91,
   "metadata": {},
   "outputs": [
    {
     "data": {
      "text/html": [
       "<div>\n",
       "<style scoped>\n",
       "    .dataframe tbody tr th:only-of-type {\n",
       "        vertical-align: middle;\n",
       "    }\n",
       "\n",
       "    .dataframe tbody tr th {\n",
       "        vertical-align: top;\n",
       "    }\n",
       "\n",
       "    .dataframe thead th {\n",
       "        text-align: right;\n",
       "    }\n",
       "</style>\n",
       "<table border=\"1\" class=\"dataframe\">\n",
       "  <thead>\n",
       "    <tr style=\"text-align: right;\">\n",
       "      <th></th>\n",
       "      <th>subject_id</th>\n",
       "      <th>hadm_id</th>\n",
       "      <th>chartdate</th>\n",
       "      <th>charttime</th>\n",
       "      <th>text</th>\n",
       "      <th>category</th>\n",
       "      <th>description</th>\n",
       "      <th>cat:desc</th>\n",
       "      <th>clean_text</th>\n",
       "    </tr>\n",
       "  </thead>\n",
       "  <tbody>\n",
       "    <tr>\n",
       "      <th>0</th>\n",
       "      <td>27121</td>\n",
       "      <td>167456.0</td>\n",
       "      <td>2126-12-01 00:00:00</td>\n",
       "      <td>2126-12-01 17:22:00</td>\n",
       "      <td>Pt. is a 60 year old with a history of large B...</td>\n",
       "      <td>Nursing</td>\n",
       "      <td>Nursing Progress Note</td>\n",
       "      <td>Nursing:Nursing Progress Note</td>\n",
       "      <td>Pt had been hemodynamically stable but around ...</td>\n",
       "    </tr>\n",
       "    <tr>\n",
       "      <th>1</th>\n",
       "      <td>6850</td>\n",
       "      <td>167393.0</td>\n",
       "      <td>2165-12-08 00:00:00</td>\n",
       "      <td>2165-12-08 17:12:00</td>\n",
       "      <td>Ms. [**Known lastname 7005**] is a 36 y/o woma...</td>\n",
       "      <td>Nursing</td>\n",
       "      <td>Nursing Progress Note</td>\n",
       "      <td>Nursing:Nursing Progress Note</td>\n",
       "      <td>Na 159 this morning\\n   \\n\\n   BUN 33 (42) and...</td>\n",
       "    </tr>\n",
       "    <tr>\n",
       "      <th>2</th>\n",
       "      <td>6850</td>\n",
       "      <td>167393.0</td>\n",
       "      <td>2165-12-08 00:00:00</td>\n",
       "      <td>2165-12-08 17:12:00</td>\n",
       "      <td>Ms. [**Known lastname 7005**] is a 36 y/o woma...</td>\n",
       "      <td>Nursing</td>\n",
       "      <td>Nursing Progress Note</td>\n",
       "      <td>Nursing:Nursing Progress Note</td>\n",
       "      <td>Na 159 this morning\\n   \\n\\n   BUN 33 (42) and...</td>\n",
       "    </tr>\n",
       "    <tr>\n",
       "      <th>3</th>\n",
       "      <td>6850</td>\n",
       "      <td>167393.0</td>\n",
       "      <td>2165-12-08 00:00:00</td>\n",
       "      <td>2165-12-08 17:12:00</td>\n",
       "      <td>Ms. [**Known lastname 7005**] is a 36 y/o woma...</td>\n",
       "      <td>Nursing</td>\n",
       "      <td>Nursing Progress Note</td>\n",
       "      <td>Nursing:Nursing Progress Note</td>\n",
       "      <td>Na 159 this morning\\n   \\n\\n   BUN 33 (42) and...</td>\n",
       "    </tr>\n",
       "    <tr>\n",
       "      <th>4</th>\n",
       "      <td>27427</td>\n",
       "      <td>175448.0</td>\n",
       "      <td>2150-11-30 00:00:00</td>\n",
       "      <td>2150-11-30 10:58:00</td>\n",
       "      <td>Planned Discharge Date: [**2150-11-30**]\\n   I...</td>\n",
       "      <td>Case Management</td>\n",
       "      <td>Case Management Continued Stay Review</td>\n",
       "      <td>Case Management :Case Management Continued Sta...</td>\n",
       "      <td>NaN</td>\n",
       "    </tr>\n",
       "  </tbody>\n",
       "</table>\n",
       "</div>"
      ],
      "text/plain": [
       "   subject_id   hadm_id            chartdate            charttime  \\\n",
       "0       27121  167456.0  2126-12-01 00:00:00  2126-12-01 17:22:00   \n",
       "1        6850  167393.0  2165-12-08 00:00:00  2165-12-08 17:12:00   \n",
       "2        6850  167393.0  2165-12-08 00:00:00  2165-12-08 17:12:00   \n",
       "3        6850  167393.0  2165-12-08 00:00:00  2165-12-08 17:12:00   \n",
       "4       27427  175448.0  2150-11-30 00:00:00  2150-11-30 10:58:00   \n",
       "\n",
       "                                                text          category  \\\n",
       "0  Pt. is a 60 year old with a history of large B...           Nursing   \n",
       "1  Ms. [**Known lastname 7005**] is a 36 y/o woma...           Nursing   \n",
       "2  Ms. [**Known lastname 7005**] is a 36 y/o woma...           Nursing   \n",
       "3  Ms. [**Known lastname 7005**] is a 36 y/o woma...           Nursing   \n",
       "4  Planned Discharge Date: [**2150-11-30**]\\n   I...  Case Management    \n",
       "\n",
       "                             description  \\\n",
       "0                  Nursing Progress Note   \n",
       "1                  Nursing Progress Note   \n",
       "2                  Nursing Progress Note   \n",
       "3                  Nursing Progress Note   \n",
       "4  Case Management Continued Stay Review   \n",
       "\n",
       "                                            cat:desc  \\\n",
       "0                      Nursing:Nursing Progress Note   \n",
       "1                      Nursing:Nursing Progress Note   \n",
       "2                      Nursing:Nursing Progress Note   \n",
       "3                      Nursing:Nursing Progress Note   \n",
       "4  Case Management :Case Management Continued Sta...   \n",
       "\n",
       "                                          clean_text  \n",
       "0  Pt had been hemodynamically stable but around ...  \n",
       "1  Na 159 this morning\\n   \\n\\n   BUN 33 (42) and...  \n",
       "2  Na 159 this morning\\n   \\n\\n   BUN 33 (42) and...  \n",
       "3  Na 159 this morning\\n   \\n\\n   BUN 33 (42) and...  \n",
       "4                                                NaN  "
      ]
     },
     "execution_count": 91,
     "metadata": {},
     "output_type": "execute_result"
    }
   ],
   "source": [
    "all_notes.head(5)"
   ]
  },
  {
   "cell_type": "code",
   "execution_count": 267,
   "metadata": {},
   "outputs": [],
   "source": [
    "all_notes.to_csv('all_notes_partially_parsed.csv', index=False)"
   ]
  },
  {
   "cell_type": "code",
   "execution_count": null,
   "metadata": {},
   "outputs": [],
   "source": []
  },
  {
   "cell_type": "code",
   "execution_count": null,
   "metadata": {},
   "outputs": [],
   "source": []
  },
  {
   "cell_type": "code",
   "execution_count": 3,
   "metadata": {},
   "outputs": [],
   "source": [
    "all_notes = pd.read_csv('all_notes_partially_parsed.csv')"
   ]
  },
  {
   "cell_type": "code",
   "execution_count": 4,
   "metadata": {},
   "outputs": [
    {
     "data": {
      "text/plain": [
       "Radiology           102964\n",
       "Nursing              35043\n",
       "Physician            12638\n",
       "Nutrition             9233\n",
       "General               8043\n",
       "Rehab Services        5343\n",
       "Respiratory           3208\n",
       "Social Work           2541\n",
       "Case Management        942\n",
       "Pharmacy               102\n",
       "Consult                 98\n",
       "Echo                    12\n",
       "Name: category, dtype: int64"
      ]
     },
     "execution_count": 4,
     "metadata": {},
     "output_type": "execute_result"
    }
   ],
   "source": [
    "all_notes[pd.isna(all_notes.clean_text)].category.value_counts()"
   ]
  },
  {
   "cell_type": "code",
   "execution_count": 11,
   "metadata": {},
   "outputs": [
    {
     "data": {
      "text/plain": [
       "Index(['subject_id', 'hadm_id', 'chartdate', 'charttime', 'text', 'category',\n",
       "       'description', 'cat:desc', 'clean_text'],\n",
       "      dtype='object')"
      ]
     },
     "execution_count": 11,
     "metadata": {},
     "output_type": "execute_result"
    }
   ],
   "source": []
  },
  {
   "cell_type": "code",
   "execution_count": 7,
   "metadata": {},
   "outputs": [
    {
     "data": {
      "text/plain": [
       "Nursing/other    639820\n",
       "Radiology        253549\n",
       "Nursing          182093\n",
       "Physician        125233\n",
       "Echo              32250\n",
       "Respiratory       27997\n",
       "Name: category, dtype: int64"
      ]
     },
     "execution_count": 7,
     "metadata": {},
     "output_type": "execute_result"
    }
   ],
   "source": [
    "all_notes[~pd.isna(all_notes.clean_text)].category.value_counts()"
   ]
  },
  {
   "cell_type": "code",
   "execution_count": 123,
   "metadata": {},
   "outputs": [],
   "source": [
    "row_idxr = (all_notes.category == 'Physician ') & (all_notes.description == 'Intensivist Note')"
   ]
  },
  {
   "cell_type": "code",
   "execution_count": 124,
   "metadata": {},
   "outputs": [],
   "source": [
    "all_notes.loc[row_idxr, ['clean_text']] = [sec[0] for sec in parse_phys_intens_notes_text(all_notes.loc[row_idxr, ['text']])]"
   ]
  },
  {
   "cell_type": "code",
   "execution_count": 84,
   "metadata": {},
   "outputs": [],
   "source": [
    "row_idxr = (all_notes.category == 'Physician ') & (all_notes.description == 'Physician Attending Progress Note')"
   ]
  },
  {
   "cell_type": "code",
   "execution_count": 86,
   "metadata": {},
   "outputs": [
    {
     "name": "stderr",
     "output_type": "stream",
     "text": [
      "/Users/tom/phd/summariser/clinical_sum/mimic_summarisation_clean/mimic_radiology_clean.py:21: FutureWarning: elementwise comparison failed; returning scalar instead, but in the future will perform elementwise comparison\n",
      "  else:\n"
     ]
    }
   ],
   "source": [
    "all_notes.loc[row_idxr, ['clean_text']] = [sec[0] for sec in parse_phys_attend_notes_text(all_notes.loc[row_idxr, ['text']])]"
   ]
  },
  {
   "cell_type": "code",
   "execution_count": 116,
   "metadata": {},
   "outputs": [],
   "source": [
    "row_idxr = (all_notes.category == 'Physician ') & (all_notes.description == 'Physician Resident Admission Note')"
   ]
  },
  {
   "cell_type": "code",
   "execution_count": 117,
   "metadata": {},
   "outputs": [],
   "source": [
    "all_notes.loc[row_idxr, ['clean_text']] = [sec[0] for sec in parse_phys_res_attnd_adm_notes_text(all_notes.loc[row_idxr, ['text']])]"
   ]
  },
  {
   "cell_type": "code",
   "execution_count": 118,
   "metadata": {},
   "outputs": [],
   "source": [
    "row_idxr = (all_notes.category == 'Physician ') & (all_notes.description == 'ICU Note - CVI')"
   ]
  },
  {
   "cell_type": "code",
   "execution_count": 119,
   "metadata": {},
   "outputs": [
    {
     "name": "stderr",
     "output_type": "stream",
     "text": [
      "/Users/tom/phd/summariser/clinical_sum/mimic_summarisation_clean/mimic_radiology_clean.py:21: FutureWarning: elementwise comparison failed; returning scalar instead, but in the future will perform elementwise comparison\n",
      "  idxs = np.argwhere(np.array(section_names) == section_name).flatten()\n"
     ]
    }
   ],
   "source": [
    "all_notes.loc[row_idxr, ['clean_text']] = [sec[0] for sec in parse_phys_intens_notes_text(all_notes.loc[row_idxr, ['text']])]"
   ]
  },
  {
   "cell_type": "code",
   "execution_count": 120,
   "metadata": {},
   "outputs": [],
   "source": [
    "row_idxr = (all_notes.category == 'Physician ') & (all_notes.description == 'Physician Attending Admission Note - MICU')"
   ]
  },
  {
   "cell_type": "code",
   "execution_count": 121,
   "metadata": {},
   "outputs": [],
   "source": [
    "all_notes.loc[row_idxr, 'clean_text'] = [sec[0] for sec in parse_phys_res_attn_micu_notes_text(all_notes.loc[row_idxr, ['text']])]"
   ]
  },
  {
   "cell_type": "code",
   "execution_count": 126,
   "metadata": {},
   "outputs": [],
   "source": [
    "row_idxr = (all_notes.category == 'Physician ') & (all_notes.description == 'Physician Resident/Attending Progress Note - MICU')"
   ]
  },
  {
   "cell_type": "code",
   "execution_count": 134,
   "metadata": {},
   "outputs": [],
   "source": [
    "all_notes.loc[row_idxr, 'clean_text'] = [sec[0] for sec in parse_phys_res_attn_prog_notes_text(all_notes.loc[row_idxr, ['text']])]"
   ]
  },
  {
   "cell_type": "code",
   "execution_count": 158,
   "metadata": {},
   "outputs": [],
   "source": [
    "row_idxr = (all_notes.category == 'Physician ') & ((all_notes.description == 'Physician Surgical Admission Note') |  \n",
    "                                                   (all_notes.description == 'Physician Fellow / Attending Progress Note - MICU'))"
   ]
  },
  {
   "cell_type": "code",
   "execution_count": 163,
   "metadata": {},
   "outputs": [],
   "source": [
    "all_notes.loc[row_idxr, 'clean_text'] = [sec[0] for sec in parse_phys_surgical_adm_notes_text(all_notes.loc[row_idxr, ['text']])]"
   ]
  },
  {
   "cell_type": "code",
   "execution_count": 151,
   "metadata": {},
   "outputs": [],
   "source": [
    "row_idxr = (all_notes.category == 'Physician ') &  (all_notes.description == 'Physician Fellow / Attending Progress Note - MICU')"
   ]
  },
  {
   "cell_type": "code",
   "execution_count": 155,
   "metadata": {},
   "outputs": [],
   "source": [
    "# can use the same func\n",
    "all_notes.loc[row_idxr, 'clean_text'] = [sec[0] for sec in parse_phys_surgical_adm_notes_text(all_notes.loc[row_idxr, ['text']])]"
   ]
  },
  {
   "cell_type": "code",
   "execution_count": 219,
   "metadata": {},
   "outputs": [],
   "source": [
    "row_idxr = (all_notes.category == 'Respiratory ') & ((all_notes.description == 'Respiratory Care Shift Note') | \n",
    "                                                     (all_notes.description == 'Generic Note'))"
   ]
  },
  {
   "cell_type": "code",
   "execution_count": 220,
   "metadata": {},
   "outputs": [
    {
     "name": "stderr",
     "output_type": "stream",
     "text": [
      "/Users/tom/phd/summariser/clinical_sum/mimic_summarisation_clean/mimic_radiology_clean.py:20: FutureWarning: elementwise comparison failed; returning scalar instead, but in the future will perform elementwise comparison\n",
      "  elif selected_sec_idx != 0:\n"
     ]
    }
   ],
   "source": [
    "all_notes.loc[row_idxr, 'clean_text'] = [sec[0] for sec in parse_respiratory_care_shift_note(all_notes.loc[row_idxr, ['text']])]"
   ]
  },
  {
   "cell_type": "code",
   "execution_count": null,
   "metadata": {},
   "outputs": [],
   "source": []
  },
  {
   "cell_type": "code",
   "execution_count": null,
   "metadata": {},
   "outputs": [],
   "source": [
    "# processed 88% of notes into the assessment and plan section, impression, 'progress' section (Nursing)"
   ]
  },
  {
   "cell_type": "code",
   "execution_count": 9,
   "metadata": {},
   "outputs": [
    {
     "data": {
      "text/plain": [
       "87.49803103026905"
      ]
     },
     "execution_count": 9,
     "metadata": {},
     "output_type": "execute_result"
    }
   ],
   "source": [
    "all_notes[~pd.isna(all_notes.clean_text)].shape[0] / all_notes.shape[0] * 100"
   ]
  },
  {
   "cell_type": "code",
   "execution_count": 10,
   "metadata": {},
   "outputs": [
    {
     "data": {
      "text/plain": [
       "(48142,)"
      ]
     },
     "execution_count": 10,
     "metadata": {},
     "output_type": "execute_result"
    }
   ],
   "source": [
    "all_notes.hadm_id.unique()"
   ]
  },
  {
   "cell_type": "code",
   "execution_count": 11,
   "metadata": {},
   "outputs": [],
   "source": [
    "clean_notes = all_notes[~pd.isna(all_notes.clean_text)]"
   ]
  },
  {
   "cell_type": "code",
   "execution_count": 16,
   "metadata": {},
   "outputs": [],
   "source": [
    "count_to_doc_counts = pd.Series(Counter([g[1].shape[0] for g in all_notes.groupby('hadm_id')])).sort_index()"
   ]
  },
  {
   "cell_type": "code",
   "execution_count": null,
   "metadata": {},
   "outputs": [],
   "source": []
  },
  {
   "cell_type": "code",
   "execution_count": null,
   "metadata": {},
   "outputs": [],
   "source": []
  },
  {
   "cell_type": "code",
   "execution_count": null,
   "metadata": {},
   "outputs": [],
   "source": [
    "str_end_matches = dis_notes.apply(lambda r: r.hist_of_illness_start[r.hist_of_illness_end.start():r.hist_of_illness_end.end()] if not pd.isna(r.hist_of_illness_end) else None, axis=1) "
   ]
  },
  {
   "cell_type": "code",
   "execution_count": 817,
   "metadata": {},
   "outputs": [],
   "source": [
    "str_end_matches = [m for m in str_end_matches if m is not None]"
   ]
  },
  {
   "cell_type": "code",
   "execution_count": null,
   "metadata": {},
   "outputs": [],
   "source": []
  },
  {
   "cell_type": "code",
   "execution_count": 5,
   "metadata": {},
   "outputs": [],
   "source": [
    "all_notes = pd.read_csv('all_notes_partially_parsed.csv')"
   ]
  },
  {
   "cell_type": "code",
   "execution_count": 135,
   "metadata": {},
   "outputs": [],
   "source": [
    "hadms_with_mult_summaries = dis_notes.hadm_id.value_counts()[dis_notes.hadm_id.value_counts() > 1].index.tolist()"
   ]
  },
  {
   "cell_type": "code",
   "execution_count": 156,
   "metadata": {},
   "outputs": [],
   "source": [
    "dis_notes = dis_notes[~dis_notes.isin(hadms_with_mult_summaries)]"
   ]
  },
  {
   "cell_type": "code",
   "execution_count": 200,
   "metadata": {},
   "outputs": [
    {
     "data": {
      "text/plain": [
       "0        Brief Hospital Course:\\nA/P: 50M with L ethmoi...\n",
       "1        Brief Hospital Course:\\nThe patient was admitt...\n",
       "2        Brief Hospital Course:\\n61 y.o. male with meta...\n",
       "3        CONCISE SUMMARY OF HOSPITAL COURSE BY ISSUE/SY...\n",
       "4        HOSPITAL COURSE:  The patient was transferred ...\n",
       "                               ...                        \n",
       "51262    Brief Hospital Course:\\nMrs. [**Known lastname...\n",
       "51263    HOSPITAL COURSE:\\n1. CORONARY ARTERY DISEASE I...\n",
       "51264    Brief Hospital Course:\\nPt was admitted to the...\n",
       "51265    Brief Hospital Course:\\nAdmitted [**10-12**] a...\n",
       "51266    Brief Hospital Course:\\n71 year old woman with...\n",
       "Name: hos_course_text_subsection, Length: 51267, dtype: object"
      ]
     },
     "execution_count": 200,
     "metadata": {},
     "output_type": "execute_result"
    }
   ],
   "source": [
    "dis_notes.hos_course_text_subsection"
   ]
  },
  {
   "cell_type": "code",
   "execution_count": 177,
   "metadata": {},
   "outputs": [],
   "source": [
    "hadms_to_course = {r.hadm_id: r.hos_course_text_subsection for r in dis_notes.itertuples()}"
   ]
  },
  {
   "cell_type": "code",
   "execution_count": 236,
   "metadata": {},
   "outputs": [
    {
     "data": {
      "text/plain": [
       "1519"
      ]
     },
     "execution_count": 236,
     "metadata": {},
     "output_type": "execute_result"
    }
   ],
   "source": [
    "len(dis_notes[pd.isna(dis_notes.hadm_id)].subject_id.unique())"
   ]
  },
  {
   "cell_type": "code",
   "execution_count": 187,
   "metadata": {},
   "outputs": [],
   "source": [
    "all_notes = all_notes.sort_values(['hadm_id', 'chartdate', 'charttime'])"
   ]
  },
  {
   "cell_type": "code",
   "execution_count": 198,
   "metadata": {},
   "outputs": [],
   "source": [
    "clean_notes = clean_notes.sort_values(['hadm_id', 'chartdate', 'charttime'])"
   ]
  },
  {
   "cell_type": "code",
   "execution_count": 205,
   "metadata": {},
   "outputs": [
    {
     "data": {
      "text/plain": [
       "598166     1.  No son Name (NI) 110  evidence for portal...\n",
       "598705     AP chest reviewed in the absence of prior che...\n",
       "208608    \\n   HOTN:    Month (only) 11  be due to GIB a...\n",
       "207656    \\n   Mr.  Known lastname 5320  is a 59 yo M wi...\n",
       "210025    \\n   Mr.  Known lastname 5320  is a 59 yo M wi...\n",
       "                                ...                        \n",
       "550411          Moderate bilateral pleural effusions.\\n\\n\\n\n",
       "672966     Diffuse opacities involving the left lung is ...\n",
       "672937     Extensive left upper and lateral segment of l...\n",
       "672449    \\n 1.  No evidence of pneumothorax.\\n\\n 2.  Ma...\n",
       "672751     Worsening diffuse left lung pneumonia with as...\n",
       "Name: clean_text, Length: 1260942, dtype: object"
      ]
     },
     "execution_count": 205,
     "metadata": {},
     "output_type": "execute_result"
    }
   ],
   "source": [
    "# maybe ignore these, although probably should probably remove the entire sentence?\n",
    "# clean_notes.clean_text.str.replace('\\[\\*\\*|\\*\\*\\]', ' ')"
   ]
  },
  {
   "cell_type": "code",
   "execution_count": 306,
   "metadata": {},
   "outputs": [],
   "source": [
    "hadms_to_dis_course = {r.hadm_id: r.hos_course_text_subsection for r in dis_notes.itertuples()}"
   ]
  },
  {
   "cell_type": "code",
   "execution_count": 307,
   "metadata": {},
   "outputs": [],
   "source": [
    "hadms_to_dis_course = {k: v for k,v in hadms_to_dis_course.items() if not pd.isna(k)}"
   ]
  },
  {
   "cell_type": "code",
   "execution_count": 311,
   "metadata": {},
   "outputs": [],
   "source": [
    "hadms_to_hosp_course = {}\n",
    "for h, dis_text in list(hadms_to_dis_course.items()):\n",
    "    h_notes = clean_notes[clean_notes.hadm_id == h]\n",
    "    hadms_to_hosp_course[h] = '\\n\\n'.join(h_notes.apply(lambda r: f'{r.category}:{r.description}\\n{r.clean_text}', axis=1))"
   ]
  },
  {
   "cell_type": "code",
   "execution_count": 321,
   "metadata": {},
   "outputs": [],
   "source": [
    "json.dump(hadms_to_dis_course, open('hadms_to_dis_course.json', 'w'))\n",
    "json.dump(hadms_to_hosp_course, open('hadms_to_hosp_course', 'w'))"
   ]
  },
  {
   "cell_type": "code",
   "execution_count": null,
   "metadata": {},
   "outputs": [],
   "source": []
  },
  {
   "cell_type": "code",
   "execution_count": 347,
   "metadata": {},
   "outputs": [
    {
     "name": "stdout",
     "output_type": "stream",
     "text": [
      "Radiology:CHEST (PORTABLE AP)\n",
      " ET tube tip positioned approximately 4.6 cm above the carina.\n",
      "\n",
      "\n",
      "\n",
      "Radiology:CT HEAD W/ & W/O CONTRAST\n",
      " 1.  Again seen is a left orbital defect with associated packing.  The soft\n",
      " tissue and osseous changes within that area appear similar to those seen on\n",
      " the prior study from [**2111-10-30**].  No intracranial extension of infection is\n",
      " definitely identified on this exam.\n",
      " 2. There is new evidence of right mastoiditis.\n",
      " 3. Mucosal thickening of the right maxillary sinus, ethmoid air cells, and\n",
      " sphenoid air cells is seen, and appears slightly more prominent on this exam.\n",
      "\n",
      "\n",
      "                                                             (Over)\n",
      "\n",
      " [**2112-4-24**] 10:12 PM\n",
      " CT HEAD W/ & W/O CONTRAST; CT 100CC NON IONIC CONTRAST          Clip # [**Clip Number (Radiology) 106771**]\n",
      "\n",
      "Radiology:CT ORBITS, SELLA & IAC W/ CONTRAST\n",
      " 1)  A large defect within the left orbit from prior enucleation.  There has\n",
      " been interval increase in packing.  Post-surgical changes, including soft\n",
      " tissue and osseous changes appear similar to the prior exam.\n",
      " 2)  Increased mucosal thickening of the right maxillary sinus and ethmoid air\n",
      " cells.\n",
      " 3)  There is partial opacification of the mastoid air cells on the right,\n",
      " including the middle ear cavity, raising the question of mastoiditis.\n",
      "\n",
      "\n",
      "\n",
      "Nursing/other:Report\n",
      "Micu Acceptance Note\n",
      "\n",
      "50 yo male with adenoid cystic carcinoma, L maxillectomy, and oribital exenteration. See FHP for further hx. Pt s/p debridement L orbital area in [**12-23**]. Had continues pain and necrosis. Seen at MEEi and had MRI that showed thinning of the sphenoid [**Doctor First Name **] on the L by CT. Placed on [**Doctor Last Name **], tobra, rifampin, zosy and flagyl. On appt on [**4-20**] pt given rx for otitis media but was not taking it. Pt found wandering on the street on [**4-24**] confused and combative. Neighbor called EMS and brought to [**Hospital **] Hosp - had CT here which showed no gross collection or infarct. Rx with unasyn, gent, vanco and rocephin and transf to [**Hospital1 3**]. At [**Hospital1 3**] pt found to be febrile to 104.8 with gross MS changes. Intubated for airway protection. LP with open presdure of 30, WBC 7200. Head CT did not show evidence of abscess. Pt also given ceftazidime and gent in ER as well as 60 meq kcl via neg for K 2.9 and IVF NS.\n",
      "\n",
      "Review of Systems\n",
      "\n",
      "Neuro - Pt sedated with 30mcksg/kg/min propofol. MAE. Soft wrist restraints in place. Does not follow commands. R pupil 4+ briskly reacts. L orbit with purulent discharge, currently paced. R ear erythematous with purulent discharge. Plan is for MRI today.\n",
      "\n",
      "Resp - Pt orally intubated on AC 600/12/40/5 - ABG 7.53/35/155/7/30. LS clear. RR 16-18. 02 sat 99-100%.\n",
      "\n",
      "C-V - HR 70-80 NSR. PT with 2 episodes of [**3-22**] beat runs of vtach during central line insertion. No ectopy otherwise. NBP 90-100/50's. EKG without acute changes in ER. Ext warm, no edema. 2+DP. Hct 33.8. INR 1.7\n",
      "\n",
      "GI - Abd soft. +BS. NPO for ? surgical procedure on [**4-25**]/ OGT clamped, bilious fluid aspirated. Protonix administered.\n",
      "\n",
      "F/E - NS infusing at 150ccs/hr x 2liters. Foley draining 35-200ccs/hr clear yellow urine.  K 2.9. Phos 1.5 - to receive k-phos when available.\n",
      "\n",
      "ID - Temp 100.1 po. WBC 19. LP signif for WBC 7200 c/w with bacterial meningitis. Given hx of sinus and orbital infection as well as otitis media - high concern for spread of infection. Recetn wound cx show resistand pseudomonas and MRSA - Covered with meropenem, gentamycin, fluconazole and vanco. Tobradex ear gtts also administered. Pt placed on contact and droplet precautions. Pt not placed on septic protocol as he had fever and elev WBC but lactate 2.1 and pt not hypotensive.\n",
      "\n",
      "Access - #20 R wrist, #20 RAC. Multi-lumen RSC. Please note pt reportedly infiltrated access in L arm.\n",
      "\n",
      "Skin - Warm, dry and intact.\n",
      "\n",
      "Social - Son reportedly with pt in ER, not located in MICU waiting room. Per team, attending spoke with son re pt's condition.\n",
      "\n",
      "\n",
      "Nursing/other:Report\n",
      "Respiratory Care:\n",
      "Patient admitted from ED with pus coming from empty left orbital socket and both ears.  Pus was obtained in the LP performed in ED, and patient has had CT scan.  On precautions.  Intubated for airway protection due to increased confusion and lethargy.  Initial settings were A/C, 600 X 16 X 50%, 5 PEEP.  FIO2 decreased over time to 40% , and based on the respiratory alkalemia the rr was decreased to 12 and the VT was decreased to 500 ml from the 600 ml.\n",
      "\n",
      "RSBI = 65.3 on 0-PEEP and 5 cm PSV.\n",
      "\n",
      "\n",
      "Nursing/other:Report\n",
      "Nursing Note\n",
      "Neuro:  Pt initially agitated and restless on IV Propofol at 30 mcgs/kg/min, bolused with 2cc of Propofol and IV Propofol increased to 40 mcgs/kg/min with good effect.  IV Fentanyl added and infusing at\n",
      "25 mcgs/hr.  Pt arouses to tactile stimulation, localizes to pain,\n",
      "no spontaneous eye opening noted.  Right pupil 4 mm and brisk.\n",
      "Moving extremities with turning and repositioning. Bilateral soft\n",
      "wrist restraints to prevent pt from pulling at ETT and lines\n",
      "\n",
      "Cardiac:  HR 70-80's SR with no ectopy noted.  BP via NBP 92-110/46-64 with MAP 61-79.  Right subclavian portacath not accessed\n",
      "at present time.  Right subclavian quad central line site clean, dry,\n",
      "and intact.  CVP tracing with good waveform...CVP=[**9-28**]. Right radial\n",
      "aline placed by medical staff with good waveform  Aline approximately\n",
      "20-30 mmHg higher than NBP at present time.  IV NS infusing at 150 cc/hr via central line. 2 Peripheral right forearm IV heplocks D/C'd. Potassium level=3.1 this am...pt replaced with 20 mEq Kcl x 1 and level to pending.\n",
      "\n",
      "Resp:  Pt remains orally intubated .  Vent changed from AC to Pressure\n",
      "Support ventilation with PS=10 and Peep=5.  Pt tolerating well with RR=20-24 and pulse oximetry sats=97-100%.  Bilateral breath sounds essentially clear with occasional bilateral coarse breath sounds at\n",
      "bases.  ETtube Sx'd for small amount of thick brown sputum. Oral Sx\n",
      "for minimal brown tinged secretions.\n",
      "\n",
      "GI:  OGtube clamped...placement confirmed by auscultation.  Abd soft with + bowel sounds in all 4 quads.  No BM noted. No flatus.  Awaiting\n",
      "Nutritional consult to start tube feedings later today.\n",
      "\n",
      "GU:  Foley to CD draining clear yellow urine...> than 30 cc/hr.\n",
      "\n",
      "ID:  Tmax 100.7 orally.  Continuues on IV Vancomycin with trough sent\n",
      "and = 8  Remains on Gentamycin.  Genta  P+T to be sent\n",
      "this afternoon.  Meropenum d/c'd and pt remains on IV Ceftriaxone and Tobramycin ear drops.   Right ear continues to drain moderate amounts of pus/blood-tinged liquid.  Left eye dsg with old serosang drainage noted on outer dsg---ENT assessed  pt and D/C's Left eye packing..Left orbit covered with 4x4. Dressing saturated with yellow drainage and pt with yellow exudate in lower pole of orbit. Remains on Droplet and MRSA Precautions.\n",
      "\n",
      "Skin:  Skin warm, dry, and intact.  Slight ruddy appearance of face.\n",
      "No breakdown noted.\n",
      "\n",
      "Social:  [**Name (NI) 29**] wife and children in to visit.  Family spoke with RN and\n",
      "medical intern about pt's condition and plan of care.\n",
      "\n",
      "Plan:  Continue pressure support ventilation and sedation.  Awaiting head and neck MRI today.  HCT and K levels to be sent this afternoon. Monitor temps and cultures.  Start tube feedings after MRI.  Change Left orbit dressing prn---DSD over Left orbit--no packing.\n",
      "\n",
      "\n",
      "\n",
      "Radiology:MR HEAD W & W/O CONTRAST\n",
      " 1)  Status post exenteration of the left orbit and ethmoid sinuses.  Extensive\n",
      "                                                             (Over)\n",
      "\n",
      " [**2112-4-25**] 5:21 PM\n",
      " MR HEAD W & W/O CONTRAST; MR CONTRAST GADOLIN                   Clip # [**Clip Number (Radiology) 106773**]\n",
      " MR ORBIT W &W/O CONTRAST\n",
      "\n",
      "Nursing/other:Report\n",
      "7p to 7a MIcu Progress Note\n",
      "\n",
      "Overview of Events -  MRI of head performed - no acute changes noted [**Name8 (MD) 76**] MD. Pt becoming increasingly alkalotic - ? due to pain. Plan is to wean propofol and increase fentanyl.\n",
      "\n",
      "Neuro - Presently sedated with 20mcgs/kg/min propofol and 45mcgs/hr fentanyl. Pt with occasional spont movement, nonpurposeful. Opens eyes at times when stimulated. Localizes to pain. No grimacing noted. Soft hand restraints remain in place.\n",
      "\n",
      "Resp - Remains orally intubated and vented on PSV 10/5 30%. ABG this am 7.53/36/103/7/31. RR 20-30 tv's 400-500. 02 sat > 95%. LS clear to coarse. Sx for sm amt thick tan sputum.\n",
      "\n",
      "C-V - HR 70-80 NSR, no ectopy noted. ABP 100-140/60-75. CVP 10-12.\n",
      "\n",
      "GI - Abd soft. +BS. No stool. TF initiated - promote with fiber infusing via OGT at 20cc/hr. Goal 75ccs. Minimal resiudals noted.\n",
      "\n",
      "Heme - Hct trending down. Presently hct 25.5. T+S sent. Plan is to guiac stools and do iron studies.\n",
      "\n",
      "F/E - Pt autiodiuresing, u/o 80-550ccs/hr via foley. Urine initially positive for hematuria at onset of shift while pt in MRI - ? trauma exerted on foley, gradually became more yellow and clear in appearance. K 3.3  Mg 1.9 Phos 2.3 and ionized ca 1.01 - repleted with 80 meq kcl po, 2pkts neutrophos, 400 mg po mg oxide and 2 gms cagluc iv. Repeat lytes to be sent.\n",
      "\n",
      "ID - Max temp 100.1 po. Rx with zosyn, gent, vanco and fluconazole iv as well as tobradex ear gtts. Peak gent level sent. Dexamethasone added to decrease inflam in CSF. Source of infection thought to be R ear otiits vs Max sinusitis and mastoiditis. Droplet precautions dcd by ID as pt on abx > 24 hrs and no longer contagious. + Contact precautions for MRSA.\n",
      "\n",
      "Skin - Intact, minor abrasions noted on inner aspect LUE. Draining purulent drainage from R ear. L orbital dssg D+I.\n",
      "\n",
      "Endo - RISS initiated as pt now receiving dexamethasone.\n",
      "\n",
      "Social - Wife called for update on pts condition. Her contact number listed on board in room.\n",
      "\n",
      "\n",
      "\n",
      "\n",
      "Nursing/other:Report\n",
      "Pt. remains intubated and on vent.support. He is sedated.  No vent. changes this shift.  ABG continues with met. alkalosis.  Please see flow sheet for further information. He was transported back from MRI without event. RSBI 70.\n",
      "\n",
      "\n",
      "Nursing/other:Report\n",
      "Nursing Note 7a-7p\n",
      "Events: Propofol weaned off, neuro status improving, afebrile.\n",
      "\n",
      "Neuro:  Pt initially on IV Propofol gtt at 20mcgs/kg/min and arouseable to verbal stimuli, localized to pain, right pupil 4 mm and brisk, nonpurposeful movement of all extremities, adequately sedated.  IV Propofol weaned off at 1pm in attempts of weaning ventilator..pt presently arouses to voice, spontaneous opening of right eye, oriented to person, following simple commands, moving all extremities, attempting to talk around ETtube, bilateral soft wrist restraints remain to prevent pt from pulling at ETtube and lines, lethargic and resting when not stimulated.\n",
      "\n",
      "Cardiac:  HR 57-75 SB/SR with no ectopy noted.  Right radial Aline with good waveform and good correlation to NBP.  BP= 111-124/62-71 via aline. Aline site clean, dry, and intact.  Right multilumen central line dsg clean, dry, and intact.  CVP 7-10 with good waveform. IV NS continues at 150 cc/hr.\n",
      "\n",
      "ID:  Tmax today 99.2 this am and afebrile since 9am.  Continues on IV gentamycin, vancomycin, tobramycin, and tobramycin ear gtts to Right ear.  Remains on MRSA precautions.\n",
      "\n",
      "Pain:  Remains on IV Fentanyl gtt at 50 mcgs/hr...50mcg Fentanyl patch applied to right upper arm at 1400...Plan to wean IV Fentanyl gtt off at 2am.  Pt currently denies pain at present time when asked.  No grimmacing noted.\n",
      "\n",
      "Resp:  Remains orally intubated.  Current vent settings of Pressure Support ventilation....PS=5/Peep=5/FI02=30%.  Plan was to attempt to extubate pt this afternoon....pt with no cough until late this afternoon and cough remains very weak at present time...attempt to wean and extubate in am after IV  Fentanyl weaned to off.  ABG sent at approx 3:30pm today and 7.51-36-69-5-30  on PS=5 and no peep.  Pt placed back on peep=5 for night.  Intern aware of ABG result.  Pt suctioned for small amounts thick tan sputum.  Pulse oximetry sats=95-97%, bilateral breath sounds clear...diminished at right base.  Oral sx for small amts of thick whitish clear sputum.\n",
      "\n",
      "GI:  OGtube remains and placement confirmed by auscultation.  FS Promote at 30cc/hr until 1pm and placed on hold until 3pm in preparation of extubation.  Tube feedings restarted at 30cc/hr.  Abd soft with + bowel sounds in all quads.  No BM, No flatus.  12:30pm fingerstick glucose = 182...sliding scale insulin held at that time d/t tube feedings to be held...repeat fingerstick glucose=199 at 2pm and pt covered with 2units of Regular insulin.\n",
      "\n",
      "GU:  Foley draining clear yellow urine...>30cc/hr...no hematuria noted.\n",
      "\n",
      "Skin:  face ruddy in appearance.  skin warm, dry , and intact\n",
      "\n",
      "Social:  Pt's family (wife and children) visiting at bedside this afternoon.  Family updated on pt's condition and plan for extubation tomorrow.  Pt's medications sent home with son.\n",
      "\n",
      "Plan:  Continue IV Fentanyl gtt until 0200 on [**4-27**] and then wean to off due to patch on right upper arm.   Pulmonary toilet and plan to wean and extubate ventilator in am.  HCT=25.3----intern aware---continue to monitor---guiac all stools,\n",
      "\n",
      "\n",
      "Nursing/other:Report\n",
      "Nursing Note 7a-7p\n",
      "(Continued)\n",
      " Increase tube feeds as tol and NPO after midnight in attempt to wean and extubate ventilator.  Maintain MRSA precautions.  Support pt and family.\n",
      "\n",
      "\n",
      "Nursing/other:Report\n",
      "Respiratory care:\n",
      "Patient remain intubated and mechanically vented. Vent checked and alarms functioning. Minimal settings of PS 5 Peep 5 and fio2 30%. Breathsounds are clear. Please see respiratory section of carevue for further data.\n",
      "Plan: Continue mechanical ventilation. Wean as tolerated.\n",
      "\n",
      "\n",
      "Nursing/other:Report\n",
      "MICU Nursing Progress Note 1900-0700\n",
      "\n",
      "General: Pt had uneventful night.  Sedation being weaned for extubation today.\n",
      "\n",
      "Neuro: Pt able to sleep overnight, easily arousable to voice.  Answers yes/no questions with head nods.  Seems to be ? confused at times- tried to get OOB x1 when trying to get to the bathroom- easily redirected and reoriented.  Seems frustrated at times with ET tube and state of health- wants to go home.  Encouragement/emotional support provided. Denies pain and states is comfortable.  Moves all extremeties in bed. Fentanyl decreased at 2 am and will be stopped at 6 am.\n",
      "\n",
      "Resp:  Currently on SBT and tolerating well. Was on PSV 5/peep5/30% all night and also tolerated well.  ABG this am 7.47/39/100.  Suctioned x1 for sm amt thick tan secretions. Has weak cough, but is able to cough up secretions to tube. Lung sounds clear throughout.\n",
      "\n",
      "CV: HR 50's-60's SB-SR without ectopy- occasional dips to high 40's- team aware.  BP stable 90's-120's/50's-60's.  Hct this am 26.7 (25.3).\n",
      "\n",
      "GI:  OGT in place.  TF stopped at 0000 for pending extubation today.  IVF running - NS at 125cc/hr x 1 liter.  +BSx4. Abd soft distended. No BM this shift.\n",
      "\n",
      "GU: Foley drg dark yellow urine. UO 35-80cc/hr.\n",
      "\n",
      "Skin: Grossly intact. Seems to have a reddened face- that is outlined at border of face.\n",
      "\n",
      "ID: Afebrile.  WBC this am 9.3 (9.8). Fluconazole dc'd. Continues on zosyn/gent/vanco.\n",
      "\n",
      "Endo: RISS in place and coverage as needed.\n",
      "\n",
      "Social: No calls/visits overnight.\n",
      "\n",
      "Plan: Extubation this am\n",
      "      Replete K\n",
      "      Monitor pain/comfort\n",
      "      ? Social work involvement\n",
      "      Discuss code status with pt\n",
      "      ? Need for depression workup\n",
      "\n",
      "\n",
      "\n",
      "Nursing/other:Report\n",
      "Resp Care\n",
      "Pt received on mech vent.  Mod amt of thick secretions, sxn with some difficulty due to pt biting on ETT.  Pt extubated to 40% face mask with a strong, prod cough and adequate cuff leak.\n",
      "\n",
      "\n",
      "Nursing/other:Report\n",
      "MICU Nursing Note 7a-7p\n",
      "Events:  Pt extubated at 9am today; requiring aggressive pulmonary toiletting to prevent from mucus plugging, Alert but pleasantly confused and inconsistent with following commands.\n",
      "\n",
      "Neuro:  No sedation and no IV Fentanyl gtt. Lethargic but arouses to voice, alert but pleasantly confused, inconsistent with following commands, moves all extremities on command...takes a few minutes to process what is being asked of him, right pupil remains 4mm and brisk.\n",
      "\n",
      "Safety:  siderails up and bed alarm on, no wrist restraints at present, pt requiring occasional reminders to not pull at lines, freq safety checks\n",
      "\n",
      "ID:  Remains afebrile, Con't on IV Zosyn, vanco, and genta.  Genta dose to be decreased at next dose\n",
      "\n",
      "Cardiac:  HR 54-81 SB/SR with rare PAC noted.  HR with rare decrease to 47-48SB when pt asleep.  Right radial Aline site clean,dry,intact with good waveform and correlation to NBP, Right SC multilumen central line site clean,dry, intact and all ports patent. CVP=[**6-5**] with good waveform.\n",
      "\n",
      "F/E:  IV NS at 125 cc/hr--team aware.  K3.6 this am--replaced with a total of 40mEQ KCL IV bolus.\n",
      "\n",
      "Resp:  Extubated at 9am and placed on 40% face tent with Sats=95-98%.  ABG obtained 1 hour after extubation=7.47-40-89-4-30.  Suctioned for large amounts thick tan sputum prior to extubation.  Lungs essentially clear with occasional upper airway rhonchi that clears with CPT and coughing.  Episode of desat to 84%---required aggressive CPT and Yankaur SX for small amt tan sputum.  Remains on 40% face tent for cool mist with RR=13-20 and Sats 93-98%\n",
      "\n",
      "GI:  OGtube d/c'd prior to extubation.  NPO at present.  Abd soft with + bowel sounds all quads.\n",
      "\n",
      "GU:  Foley draining dark clear yellow urine in good amts\n",
      "\n",
      "Skin:  intact.  face remains ruddy\n",
      "\n",
      "Pain:  pt denies pain when asked. No grimmacing noted. Fentanyl patch remains on right upper arm\n",
      "\n",
      "Social:  [**Name (NI) 29**] son [**Name (NI) 5730**] in to visit this afternoon.  No other family members have called or visited yet today.\n",
      "\n",
      "Plan:  Continue aggressive pulmonary toileting with deep breathing, coughing, and Yankaur suctioning....NO Nasotracheal Suctioning...Continue CPT.  Continue frequent safety checks..Attempt sips of clears with Aspiration Precautions.  Support pt and family.\n",
      "\n",
      "\n",
      "\n",
      "Nursing/other:Report\n",
      "MICU Nursing Progress Note 1900-0700\n",
      "\n",
      "General: Pt had uneventful night.  Doing well post extubation, weaned to room air.\n",
      "\n",
      "Neuro: Alert and oriented to person and place.  Is very hard of hearing.  Is vague with answers to some questions and takes a while to process what is being said to him.  Still confused at times.  Moves all extremeties in bed.  Denies pain, but does have stiffness in his neck. Fentanyl patch in place. Pt stated that he is upset because of current situation with separation from wife and feels down about current medical condition.  Comfort provided. Not noted to pull at lines or become agitated.  Frequent safety checks overnight.  Able to sleep most of night.\n",
      "\n",
      "Resp: Pt weaned to room air at 0000 with sats in mid 90's.  No episodes of desaturation and able to clear secretions with chest PT.  Lung sounds clear bilat.  RR teens.\n",
      "\n",
      "CV: HR 50's SB without ectopy.  Occasional dip to high 40's when deep alseep.  BP 130's-140's/70's-80's.\n",
      "\n",
      "GI: Taking sips of water (order for no more than >30cc/hr) and tolerating well. Team will put in order for formal speech and swallow today.  Abd soft, nontender. +BSx4. No BM this shift.  NS at 75cc/hr infusing for 1 liter.\n",
      "\n",
      "GU:  Foley drg yellow urine. UO 50-80cc/hr.\n",
      "\n",
      "ID: Afebrile. Continues on gent/vanco/zosyn.  ? repeat LP in future and/or repeat head/neck/spine MRI to rule out abcess.\n",
      "\n",
      "Skin: Intact. Face appears reddended, no change since yesterday.\n",
      "\n",
      "Endo: RISS continues, coverage as needed.\n",
      "\n",
      "Social: 1 call from wife, updated.\n",
      "\n",
      "Plan: Follow up am labs\n",
      "      Monitor M/S\n",
      "      Provide support/comfort- ? social work involovement\n",
      "      f/u code status, for now full code\n",
      "      OOB to chair today\n",
      "      Advance diet as tolerated\n",
      "\n",
      "\n",
      "\n",
      "\n",
      "\n",
      "\n",
      "Radiology:CHEST (PORTABLE AP)\n",
      " 1)  No evidence of right pleural effusion.\n",
      " 2)  Right internal jugular vascular catheter terminates within the proximal\n",
      " right atrium.\n",
      "\n",
      "\n",
      "\n",
      "\n",
      "Echo:Report\n",
      "The left atrium is normal in size. Left ventricular wall thicknesses are\n",
      "normal. The left ventricular cavity size is normal. Overall left ventricular\n",
      "systolic function is probably normal (LVEF>55%); focused views only so\n",
      "regional wall motion abnormalities cannot be excluded. Right ventricular\n",
      "chamber size and free wall motion are probably normal (focused views only).\n",
      "The aortic valve leaflets (3) appear structurally normal with good leaflet\n",
      "excursion and no aortic regurgitation. The mitral valve appears structurally\n",
      "normal with trivial mitral regurgitation. There is a probably small\n",
      "pericardial effusion. There are no echocardiographic signs of tamponade in\n",
      "limited views.\n",
      "\n",
      "\n",
      "\n",
      "\n",
      "Radiology:CHEST (PORTABLE AP)\n",
      " Malpositioned PICC ascending into the neck.\n",
      "\n",
      "\n",
      "\n",
      "Radiology:PERIPHERAL W/O PORT\n",
      " Successful repositioning of right-sided PICC, with the tip at the\n",
      " caval-atrial junction.  The catheter is ready for use.\n",
      "\n",
      "\n"
     ]
    }
   ],
   "source": [
    "print(next(iter(hadms_to_hosp_course.values())))"
   ]
  },
  {
   "cell_type": "code",
   "execution_count": null,
   "metadata": {},
   "outputs": [],
   "source": []
  },
  {
   "cell_type": "code",
   "execution_count": 62,
   "metadata": {},
   "outputs": [
    {
     "name": "stderr",
     "output_type": "stream",
     "text": [
      "/Users/tom/anaconda3/envs/cattrainer/lib/python3.7/site-packages/IPython/core/interactiveshell.py:3051: DtypeWarning: Columns (4,5,15) have mixed types.Specify dtype option on import or set low_memory=False.\n",
      "  interactivity=interactivity, compiler=compiler, result=result)\n"
     ]
    }
   ],
   "source": [
    "all_mimic = pd.read_csv('../data/mimic_3_all_notes_with_20_occurrences_of_primary_condition.csv')"
   ]
  },
  {
   "cell_type": "code",
   "execution_count": null,
   "metadata": {},
   "outputs": [],
   "source": []
  }
 ],
 "metadata": {
  "kernelspec": {
   "display_name": "Python [conda env:cattrainer]",
   "language": "python",
   "name": "conda-env-cattrainer-py"
  },
  "language_info": {
   "codemirror_mode": {
    "name": "ipython",
    "version": 3
   },
   "file_extension": ".py",
   "mimetype": "text/x-python",
   "name": "python",
   "nbconvert_exporter": "python",
   "pygments_lexer": "ipython3",
   "version": "3.7.0"
  }
 },
 "nbformat": 4,
 "nbformat_minor": 4
}
