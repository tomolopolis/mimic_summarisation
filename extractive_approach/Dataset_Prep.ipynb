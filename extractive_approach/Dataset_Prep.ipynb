{
 "cells": [
  {
   "cell_type": "code",
   "execution_count": 1,
   "id": "3eb6b6ce-9d98-44aa-992b-cb7fcece913d",
   "metadata": {},
   "outputs": [],
   "source": [
    "%load_ext autoreload\n",
    "\n",
    "%autoreload 2"
   ]
  },
  {
   "cell_type": "code",
   "execution_count": 2,
   "id": "cc68aeb9-0e2c-4e37-9f52-4c80576b7ebc",
   "metadata": {},
   "outputs": [],
   "source": [
    "import pandas as pd\n",
    "import numpy as np\n",
    "import os\n",
    "from sentence_transformers import SentenceTransformer\n",
    "import spacy\n",
    "from tqdm import tqdm\n",
    "from collections import defaultdict\n",
    "from datasets import load_metric, load_dataset, load_from_disk\n",
    "from differ import diff_ratio\n",
    "import re\n",
    "import seaborn as sns\n",
    "import json\n",
    "from tqdm import tqdm"
   ]
  },
  {
   "cell_type": "code",
   "execution_count": 3,
   "id": "920a4f75-236a-4be8-bf28-c7447b9d89fa",
   "metadata": {},
   "outputs": [],
   "source": [
    "os.environ['HF_DATASETS_CACHE'] = '/data/users/k1897038/.cache/huggingface/datasets'\n",
    "os.environ['TRANSFORMERS_CACHE'] = '/data/users/k1897038/.cache/huggingface/transformers'"
   ]
  },
  {
   "cell_type": "code",
   "execution_count": 11,
   "id": "95ff65e3-ffa9-48d1-8a50-f4c5cd1e2ab2",
   "metadata": {},
   "outputs": [
    {
     "data": {
      "text/plain": [
       "'/data/users/k1897038/mimic_summarisation/extractive_approach'"
      ]
     },
     "execution_count": 11,
     "metadata": {},
     "output_type": "execute_result"
    }
   ],
   "source": [
    "os.getcwd()"
   ]
  },
  {
   "cell_type": "code",
   "execution_count": 17,
   "id": "6d694c9f-159c-47ab-a19e-dafd327b3d0e",
   "metadata": {},
   "outputs": [],
   "source": [
    "for line in tqdm(open('../../hadms_to_hosp_course_processed.jsonl')):\n",
    "    ents = json.loads(line)\n",
    "    break"
   ]
  },
  {
   "cell_type": "code",
   "execution_count": null,
   "id": "c325b282-3960-41a8-a3c5-82945c9e4672",
   "metadata": {},
   "outputs": [],
   "source": [
    "cat_ents = load_dataset('json', data_files='../../hadms_to_hosp_course_processed.jsonl') "
   ]
  },
  {
   "cell_type": "code",
   "execution_count": 5,
   "id": "ca73b6d8-7b12-4853-b3af-84c91d78f9f6",
   "metadata": {},
   "outputs": [
    {
     "name": "stderr",
     "output_type": "stream",
     "text": [
      "Using custom data configuration default-b3aeb80e4ba19d32\n",
      "Reusing dataset json (/home/k1897038/.cache/huggingface/datasets/json/default-b3aeb80e4ba19d32/0.0.0/c2d554c3377ea79c7664b93dc65d0803b45e3279000f993c7bfd18937fd7f426)\n"
     ]
    },
    {
     "data": {
      "application/vnd.jupyter.widget-view+json": {
       "model_id": "108efa3756c94cf8b4a36b916bffc6b2",
       "version_major": 2,
       "version_minor": 0
      },
      "text/plain": [
       "  0%|          | 0/1 [00:00<?, ?it/s]"
      ]
     },
     "metadata": {},
     "output_type": "display_data"
    }
   ],
   "source": [
    "ds = load_dataset('json', data_files=ds_path)"
   ]
  },
  {
   "cell_type": "code",
   "execution_count": 6,
   "id": "0f5fa55e-3850-426b-a7ed-a6d79f3bcf0d",
   "metadata": {},
   "outputs": [],
   "source": [
    "pat = re.compile(r'(?:brief)?\\n?\\s?hospital course:?|SUMMARY OF HOSPITAL COURSE BY SYSTEMS:?', re.IGNORECASE)\n",
    "def clean(s: str):\n",
    "    s = s.replace('\\n\\n' ,'\\n')\\\n",
    "         .replace(r'\\s{2+}', ' ')\\\n",
    "         .replace(r'\\t', ' ')\n",
    "    return pat.sub('', s)"
   ]
  },
  {
   "cell_type": "code",
   "execution_count": 7,
   "id": "84a0d80c-a47b-43d5-a974-de4ad6776e79",
   "metadata": {},
   "outputs": [],
   "source": [
    "ds = ds['train'].map(lambda d: {'clean_sum': clean(d['summary'])}, num_proc=5)"
   ]
  },
  {
   "cell_type": "code",
   "execution_count": 8,
   "id": "133aedd3-4b44-4857-bf38-e5037a94d479",
   "metadata": {},
   "outputs": [],
   "source": [
    "ds = ds.map(lambda d: {'clean_text': clean(d['text'])}, num_proc=10)"
   ]
  },
  {
   "cell_type": "code",
   "execution_count": 9,
   "id": "c9133a16-b9f3-40ba-8a8c-fc0efeb11334",
   "metadata": {},
   "outputs": [
    {
     "data": {
      "text/plain": [
       "<spacy.pipeline.sentencizer.Sentencizer at 0x7ff50df54f80>"
      ]
     },
     "execution_count": 9,
     "metadata": {},
     "output_type": "execute_result"
    }
   ],
   "source": [
    "nlp = spacy.load('en_core_web_md')\n",
    "nlp.add_pipe('sentencizer')"
   ]
  },
  {
   "cell_type": "code",
   "execution_count": 37,
   "id": "215820d5-83ed-4a97-9108-f4c6b1f55192",
   "metadata": {},
   "outputs": [],
   "source": [
    "# disable_steps = [\"tok2vec\", \"tagger\", \"parser\", \"attribute_ruler\", \"lemmatizer\", \"ner\"]\n",
    "# def find_sents(text):\n",
    "#     return [s.text for s in nlp(text, disable=disable_steps).sents]"
   ]
  },
  {
   "cell_type": "code",
   "execution_count": 12,
   "id": "c12dfae1-7b4c-4041-9690-64570492b5cd",
   "metadata": {},
   "outputs": [],
   "source": [
    "tok = nlp.tokenizer\n",
    "sentensizer = nlp.pipeline[-1][-1]\n",
    "def find_sents(text):\n",
    "    return [s.text for s in sentensizer(tok(text)).sents if len(s) > 3]"
   ]
  },
  {
   "cell_type": "code",
   "execution_count": 13,
   "id": "afaf7f8f-12d4-441e-b7ae-331f1a4b1cc9",
   "metadata": {},
   "outputs": [
    {
     "data": {
      "application/vnd.jupyter.widget-view+json": {
       "model_id": "0f0f987d8eba4cff9de9e366d33ad4b9",
       "version_major": 2,
       "version_minor": 0
      },
      "text/plain": [
       "  0%|          | 0/47951 [00:00<?, ?ex/s]"
      ]
     },
     "metadata": {},
     "output_type": "display_data"
    }
   ],
   "source": [
    "ds = ds.map(lambda d: {'summ_sents': find_sents(d['clean_sum'])})"
   ]
  },
  {
   "cell_type": "code",
   "execution_count": null,
   "id": "96e88823-e011-45e8-a7ab-92c424294cdc",
   "metadata": {},
   "outputs": [],
   "source": [
    "ds['summ_sents']"
   ]
  },
  {
   "cell_type": "code",
   "execution_count": 16,
   "id": "ed76204f-49be-4c56-8ae1-61dcc8fa66da",
   "metadata": {},
   "outputs": [
    {
     "data": {
      "application/vnd.jupyter.widget-view+json": {
       "model_id": "e4e6cbdfe8dd490d95630416f8e73d9a",
       "version_major": 2,
       "version_minor": 0
      },
      "text/plain": [
       "  0%|          | 0/47951 [00:00<?, ?ex/s]"
      ]
     },
     "metadata": {},
     "output_type": "display_data"
    }
   ],
   "source": [
    "ds = ds.map(lambda d: {'text_sents': find_sents(d['clean_text'])})"
   ]
  },
  {
   "cell_type": "code",
   "execution_count": 21,
   "id": "11751b47-48a3-4242-8a02-b6627735a74d",
   "metadata": {},
   "outputs": [],
   "source": [
    "ds.save_to_disk('/data/users/k1897038/mimic3_dataset_pre_processed')"
   ]
  },
  {
   "cell_type": "code",
   "execution_count": null,
   "id": "4c5a115a-dfad-498d-b2ce-a040676344e4",
   "metadata": {},
   "outputs": [],
   "source": [
    "ds = load_from_disk('/data/users/k1897038/mimic3_dataset_pre_processed')"
   ]
  },
  {
   "cell_type": "code",
   "execution_count": 5,
   "id": "1d1f4fb6-5a6f-4e64-800d-0b1bfa457c5a",
   "metadata": {},
   "outputs": [],
   "source": [
    "# train 6 seperate LSTM models for prediciting 'top-line' extractive summaries.\n",
    "sent_limits = [1,2,3,5,10,15]"
   ]
  },
  {
   "cell_type": "code",
   "execution_count": 7,
   "id": "16498bc8-71e7-4d12-bc5b-c5ff8e9b5942",
   "metadata": {},
   "outputs": [
    {
     "name": "stderr",
     "output_type": "stream",
     "text": [
      "100%|█████████████████████████████████████████████████████████████████████████████████████████████████████████████████████████| 6/6 [14:05<00:00, 140.93s/it]\n"
     ]
    }
   ],
   "source": [
    "sent_limd_sums = defaultdict(list)\n",
    "for lim in tqdm(sent_limits):\n",
    "    ds = ds.map(lambda d: {f'summ_lim_{lim}': d['summ_sents'][:lim]}, num_proc=10)"
   ]
  },
  {
   "cell_type": "code",
   "execution_count": 8,
   "id": "327508d9-5957-4b3a-9833-4700b2a68c10",
   "metadata": {},
   "outputs": [],
   "source": [
    "def _parse_score(lvl, scores):\n",
    "    return (lvl, scores[lvl].mid.precision, scores[lvl].mid.recall, scores[lvl].mid.fmeasure)"
   ]
  },
  {
   "cell_type": "code",
   "execution_count": 12,
   "id": "15d0247c-818d-437b-bd67-0bb485d0e590",
   "metadata": {},
   "outputs": [
    {
     "data": {
      "application/vnd.jupyter.widget-view+json": {
       "model_id": "a1fcc8fe013148fc83f190e420990ba9",
       "version_major": 2,
       "version_minor": 0
      },
      "text/plain": [
       "  0%|          | 0/47951 [00:00<?, ?ex/s]"
      ]
     },
     "metadata": {},
     "output_type": "display_data"
    }
   ],
   "source": [
    "input_lens = ds.map(lambda d: {'lens': len(d['text_sents'])})"
   ]
  },
  {
   "cell_type": "code",
   "execution_count": 23,
   "id": "514bcaac-a31e-4d5e-965f-47e8ed6a34c0",
   "metadata": {},
   "outputs": [
    {
     "data": {
      "text/plain": [
       "<AxesSubplot:ylabel='Count'>"
      ]
     },
     "execution_count": 23,
     "metadata": {},
     "output_type": "execute_result"
    },
    {
     "data": {
      "image/png": "[encoded data removed]",
      "text/plain": [
       "<Figure size 432x288 with 1 Axes>"
      ]
     },
     "metadata": {
      "needs_background": "light"
     },
     "output_type": "display_data"
    }
   ],
   "source": [
    "sns.histplot(input_lens['lens'], stat='count', bins=50)"
   ]
  },
  {
   "cell_type": "code",
   "execution_count": 28,
   "id": "c253140b-025b-4997-afe8-5ecd5e85ec8c",
   "metadata": {},
   "outputs": [
    {
     "data": {
      "text/plain": [
       "0.9378949344122125"
      ]
     },
     "execution_count": 28,
     "metadata": {},
     "output_type": "execute_result"
    }
   ],
   "source": [
    "len([i for i in input_lens['lens'] if i < 1000]) / len(ds)"
   ]
  },
  {
   "cell_type": "code",
   "execution_count": null,
   "id": "efffa367-b301-48e0-b70e-cf2277111813",
   "metadata": {},
   "outputs": [],
   "source": [
    "# take the top 500 of start, end of sentences. For 93% of cases this is the full amount..."
   ]
  },
  {
   "cell_type": "code",
   "execution_count": 29,
   "id": "6efb9b75-4649-4f87-ba67-ef2392d8b729",
   "metadata": {},
   "outputs": [],
   "source": [
    "def top_tail_text_sents(d):\n",
    "    sents = d['text_sents']\n",
    "    if len(d['text_sents']) > 1000:\n",
    "        first = d['text_sents'][:500]\n",
    "        last = d['text_sents'][-500:]\n",
    "        sents = first + last\n",
    "    return sents"
   ]
  },
  {
   "cell_type": "code",
   "execution_count": null,
   "id": "c78543dc-637d-4ff3-9609-a496a273f10c",
   "metadata": {},
   "outputs": [],
   "source": [
    "def top_tail_texts(d, col_name):\n",
    "    sent_embeds = d[col_name]\n",
    "    if len(d[col_name]) > 1000:\n",
    "        first = d[col_name][:500]\n",
    "        last = d[col_name][-500:]\n",
    "        sents = first + last\n",
    "    return sent_embeds"
   ]
  },
  {
   "cell_type": "code",
   "execution_count": null,
   "id": "bced310b-47b0-497c-a13e-270aadb39f94",
   "metadata": {},
   "outputs": [],
   "source": [
    "ds = ds.map(lambda d: {'text_embed_limd': top_tail_text_embed(d, 'text_embed')})"
   ]
  },
  {
   "cell_type": "code",
   "execution_count": 30,
   "id": "bbadf486-6e20-4012-ba21-19e6997fd5a7",
   "metadata": {},
   "outputs": [
    {
     "data": {
      "application/vnd.jupyter.widget-view+json": {
       "model_id": "a0e0b2d579dd4678a59c1b013707979d",
       "version_major": 2,
       "version_minor": 0
      },
      "text/plain": [
       "  0%|          | 0/47951 [00:00<?, ?ex/s]"
      ]
     },
     "metadata": {},
     "output_type": "display_data"
    }
   ],
   "source": [
    "ds = ds.map(lambda d: {'text_sents_limd': top_tail_text_sents(d, 'text_sents')})"
   ]
  },
  {
   "cell_type": "code",
   "execution_count": 44,
   "id": "f966936d-e348-42f8-862e-6e710469f0d3",
   "metadata": {},
   "outputs": [],
   "source": [
    "first_sents = ds['text_sents_limd'][1]"
   ]
  },
  {
   "cell_type": "code",
   "execution_count": 39,
   "id": "bd5a21e7-91b8-400b-90b2-4efcf0074368",
   "metadata": {},
   "outputs": [],
   "source": [
    "# only encode the limited text_sents.\n",
    "model = SentenceTransformer('all-MiniLM-L6-v2')"
   ]
  },
  {
   "cell_type": "code",
   "execution_count": 47,
   "id": "9b55ac5c-2fb6-4b21-8da8-5ab8e66f42f8",
   "metadata": {},
   "outputs": [
    {
     "data": {
      "application/vnd.jupyter.widget-view+json": {
       "model_id": "74dd34ea405b42c9b2c63df813fbd21c",
       "version_major": 2,
       "version_minor": 0
      },
      "text/plain": [
       "  0%|          | 0/47951 [00:00<?, ?ex/s]"
      ]
     },
     "metadata": {},
     "output_type": "display_data"
    }
   ],
   "source": [
    "def encode(sents):\n",
    "    return [model.encode(s) for s in sents]\n",
    "ds = ds.map(lambda d:{'text_embed_limd': encode(d['text_sents_limd'])})"
   ]
  },
  {
   "cell_type": "code",
   "execution_count": 51,
   "id": "26bb3135-ee41-4b7f-9621-9dd838f2b3d4",
   "metadata": {},
   "outputs": [
    {
     "data": {
      "text/plain": [
       "Dataset({\n",
       "    features: ['hadm_id', 'summary', 'text', 'clean_sum', 'clean_text', 'summ_sents', 'text_sents', 'text_embed', 'summ_lim_1', 'summ_lim_2', 'summ_lim_3', 'summ_lim_5', 'summ_lim_10', 'summ_lim_15', 'text_sents_limd', 'preds_lim_1', 'preds_lim_2', 'preds_lim_3', 'preds_lim_5', 'preds_lim_10', 'preds_lim_15', 'text_embed_limd'],\n",
       "    num_rows: 47951\n",
       "})"
      ]
     },
     "execution_count": 51,
     "metadata": {},
     "output_type": "execute_result"
    }
   ],
   "source": [
    "ds"
   ]
  },
  {
   "cell_type": "code",
   "execution_count": 50,
   "id": "478781a5-1752-478e-8227-5d3a8cb04e1d",
   "metadata": {},
   "outputs": [],
   "source": [
    "ds.save_to_disk('/data/users/k1897038/mimic3_dataset_pre_processed')"
   ]
  },
  {
   "cell_type": "code",
   "execution_count": null,
   "id": "0cacb80e-4344-424d-9126-91c211f55a38",
   "metadata": {},
   "outputs": [],
   "source": [
    "len(ds['text_embed_limd'].iloc[0])"
   ]
  },
  {
   "cell_type": "code",
   "execution_count": 6,
   "id": "874bb49c-3605-450e-98f6-34c6b0caf01a",
   "metadata": {},
   "outputs": [
    {
     "name": "stderr",
     "output_type": "stream",
     "text": [
      "Loading cached processed dataset at /data/users/k1897038/mimic3_dataset_pre_processed/cache-10b471aaea75458e.arrow\n"
     ]
    }
   ],
   "source": [
    "ds = ds.map(lambda d: {'text_embed_len': len(d['text_embed_limd'])})"
   ]
  },
  {
   "cell_type": "code",
   "execution_count": null,
   "id": "66fed78a-7a7c-494e-b3d1-4d931b80fcbb",
   "metadata": {
    "tags": []
   },
   "outputs": [],
   "source": [
    "for lim in tqdm(sent_limits):\n",
    "    col = f'summ_lim_{lim}'\n",
    "    def map_preds(d):\n",
    "        summ_sents = d[col]\n",
    "        text_sents = d['text_sents_limd']\n",
    "        sim_text_sent_idxs = []\n",
    "        sents_to_compare = text_sents\n",
    "        for summ_sent in summ_sents:\n",
    "            sents_to_compare = [s if i not in sim_text_sent_idxs else '' \n",
    "                                for i, s in enumerate(text_sents)]\n",
    "            ratios = [diff_ratio(summ_sent, sent)[0] for sent in sents_to_compare]\n",
    "            max_ratio_sents = np.where(ratios == np.amax(ratios))[0]\n",
    "            sim_text_sent_idxs.extend(max_ratio_sents)\n",
    "        preds = np.zeros(len(text_sents))\n",
    "        for i in sim_text_sent_idxs:\n",
    "            preds[i] = 1\n",
    "        return preds\n",
    "    ds = ds.map(lambda d: {f'preds_lim_{lim}': map_preds(d)}, num_proc=10) "
   ]
  },
  {
   "cell_type": "code",
   "execution_count": 38,
   "id": "f35564d5-bfee-437a-9c7b-06ac7b46dfba",
   "metadata": {},
   "outputs": [],
   "source": [
    "ds.save_to_disk('/data/users/k1897038/mimic3_dataset_pre_processed')"
   ]
  },
  {
   "cell_type": "code",
   "execution_count": 4,
   "id": "df9c5f24-92f0-4a2c-8fe0-0cb97c20b05d",
   "metadata": {},
   "outputs": [],
   "source": [
    "ds = load_from_disk('/data/users/k1897038/mimic3_dataset_pre_processed')"
   ]
  },
  {
   "cell_type": "code",
   "execution_count": 5,
   "id": "0b2c6023-a671-46dc-b43b-d9bfc8fb6f2c",
   "metadata": {},
   "outputs": [
    {
     "data": {
      "text/plain": [
       "Dataset({\n",
       "    features: ['hadm_id', 'summary', 'text', 'clean_sum', 'clean_text', 'summ_sents', 'text_sents', 'text_embed', 'summ_lim_1', 'summ_lim_2', 'summ_lim_3', 'summ_lim_5', 'summ_lim_10', 'summ_lim_15', 'text_sents_limd', 'preds_lim_1', 'preds_lim_2', 'preds_lim_3', 'preds_lim_5', 'preds_lim_10', 'preds_lim_15', 'text_embed_limd', 'text_embed_len', 'text_embed_limd_spacy', 'text_limd'],\n",
       "    num_rows: 47951\n",
       "})"
      ]
     },
     "execution_count": 5,
     "metadata": {},
     "output_type": "execute_result"
    }
   ],
   "source": [
    "ds"
   ]
  },
  {
   "cell_type": "code",
   "execution_count": null,
   "id": "9b072f1f-9a5a-41fe-bc0e-3023c98293c4",
   "metadata": {},
   "outputs": [],
   "source": [
    "ds"
   ]
  },
  {
   "cell_type": "code",
   "execution_count": null,
   "id": "45abad27-a9d1-4a70-b6b5-67c4b7888e7a",
   "metadata": {},
   "outputs": [],
   "source": [
    "## use glove embeddings?? \n",
    "## re-reun LSTM?? models"
   ]
  },
  {
   "cell_type": "code",
   "execution_count": 30,
   "id": "87f0f9ae-ae24-40bc-8b27-6e34418ae566",
   "metadata": {},
   "outputs": [],
   "source": [
    "nlp = spacy.load('en_core_web_md')"
   ]
  },
  {
   "cell_type": "code",
   "execution_count": null,
   "id": "07de5bb0-87c8-4c20-81a0-404c4207701c",
   "metadata": {},
   "outputs": [
    {
     "data": {
      "application/vnd.jupyter.widget-view+json": {
       "model_id": "c05a62e7ff5341cf9dda8f41e444da6e",
       "version_major": 2,
       "version_minor": 0
      },
      "text/plain": [
       "  0%|          | 0/47951 [00:00<?, ?ex/s]"
      ]
     },
     "metadata": {},
     "output_type": "display_data"
    }
   ],
   "source": [
    "ds = ds.map(lambda d: {'text_embed_limd_spacy': [nlp(s).vector for s in d['text_sents_limd']]})"
   ]
  },
  {
   "cell_type": "code",
   "execution_count": 26,
   "id": "e07eb992-847f-403c-bd7c-2d196c78d5a7",
   "metadata": {},
   "outputs": [
    {
     "data": {
      "text/plain": [
       "300"
      ]
     },
     "execution_count": 26,
     "metadata": {},
     "output_type": "execute_result"
    }
   ],
   "source": [
    "list(nlp(first_sents[0]).sents)[0].vector"
   ]
  },
  {
   "cell_type": "code",
   "execution_count": 10,
   "id": "8519015f-e37e-4dcc-8511-a177afecdfb3",
   "metadata": {},
   "outputs": [],
   "source": [
    "ds.save_to_disk('/data/users/k1897038/mimic3_dataset_pre_processed')"
   ]
  },
  {
   "cell_type": "code",
   "execution_count": 7,
   "id": "175a7119-2b88-4de4-9ff9-0eb9c50d5add",
   "metadata": {},
   "outputs": [],
   "source": [
    "metric = load_metric('rouge')"
   ]
  },
  {
   "cell_type": "code",
   "execution_count": 10,
   "id": "1b773695-8dfb-4450-ad16-1f7dba1931e4",
   "metadata": {},
   "outputs": [],
   "source": [
    "sent_limits = [1,2,3,5,10,15]"
   ]
  },
  {
   "cell_type": "code",
   "execution_count": 26,
   "id": "f9345315-a498-4356-ac6a-b830272a5248",
   "metadata": {},
   "outputs": [
    {
     "name": "stderr",
     "output_type": "stream",
     "text": [
      "100%|██████████████████████████████████████████████████████████████████████████████████████████████████████████████████████| 6/6 [2:40:54<00:00, 1609.12s/it]\n"
     ]
    }
   ],
   "source": [
    "extractive_score_ceil = {}\n",
    "for lim in tqdm(sent_limits):\n",
    "    text_sums = []\n",
    "    for sent_idxs, text_sents in zip([np.argwhere(np.array(p) == 1) for p in ds[f'preds_lim_{lim}']], \n",
    "                                     ds['text_sents']):\n",
    "        text_sum = []\n",
    "        for i in sent_idxs:\n",
    "            t = text_sents[i[0]]\n",
    "            if t not in text_sum:\n",
    "                text_sum.append(t)\n",
    "        text_sums.append(''.join(text_sum))\n",
    "    metric.add_batch(predictions=text_sums, references=[''.join(s) for s in ds[f'summ_lim_{lim}']])\n",
    "    scores = metric.compute()\n",
    "    extractive_score_ceil[lim] = _parse_score('rouge1', scores), _parse_score('rouge2', scores), _parse_score('rougeLsum', scores)"
   ]
  },
  {
   "cell_type": "code",
   "execution_count": 27,
   "id": "b8de0475-bd6c-42bb-992b-50da281c2502",
   "metadata": {},
   "outputs": [
    {
     "data": {
      "text/plain": [
       "{1: (('rouge1', 0.2954789037242724, 0.3105789838775548, 0.26893790052938443),\n",
       "  ('rouge2', 0.1530013865553545, 0.18564336298053785, 0.14916766696966413),\n",
       "  ('rougeLsum', 0.2869088898344726, 0.30200243852475417, 0.2611722859785751)),\n",
       " 2: (('rouge1', 0.32752561931874313, 0.32203975278645547, 0.29883012290461897),\n",
       "  ('rouge2', 0.15113092568450023, 0.16597535441556202, 0.14596105283919245),\n",
       "  ('rougeLsum', 0.3149819334644566, 0.3105165310723039, 0.28765856215926366)),\n",
       " 3: (('rouge1', 0.3376198158858904, 0.32930108144291087, 0.31184174913281104),\n",
       "  ('rouge2', 0.1449426198825109, 0.15423277917724654, 0.14023967984408575),\n",
       "  ('rougeLsum', 0.32468482348078204, 0.3175217381467632, 0.30019911003394284)),\n",
       " 5: (('rouge1', 0.3468834457085018, 0.3392393929861849, 0.32352373382159033),\n",
       "  ('rouge2', 0.13473345442479184, 0.1401618027871774, 0.1302094035482527),\n",
       "  ('rougeLsum', 0.33473549433230215, 0.3280669965165318, 0.31245517642187637)),\n",
       " 10: (('rouge1', 0.3529488550942286, 0.35237821726160845, 0.3314793180767659),\n",
       "  ('rouge2', 0.11811481802119175, 0.12164064122979941, 0.11343846513093973),\n",
       "  ('rougeLsum', 0.3426689563179268, 0.3427315001353619, 0.3220083606781449)),\n",
       " 15: (('rouge1', 0.35332418182871755, 0.3623730622328863, 0.3333293728173722),\n",
       "  ('rouge2', 0.1098002143324242, 0.11463316612758195, 0.10530024113134762),\n",
       "  ('rougeLsum', 0.34390661265890904, 0.3532755025124695, 0.32458757604655764))}"
      ]
     },
     "execution_count": 27,
     "metadata": {},
     "output_type": "execute_result"
    }
   ],
   "source": [
    "extractive_score_ceil"
   ]
  },
  {
   "cell_type": "code",
   "execution_count": 38,
   "id": "50e3fa39-83eb-413e-832a-13c2589829ad",
   "metadata": {},
   "outputs": [],
   "source": [
    "json.dump(extractive_score_ceil, open('/data/users/k1897038/outputs/extractive_score_ceil.json', 'w'))"
   ]
  },
  {
   "cell_type": "code",
   "execution_count": 14,
   "id": "67e3d142-6bc1-42ec-bc28-80d7f48be5b6",
   "metadata": {},
   "outputs": [],
   "source": []
  }
 ],
 "metadata": {
  "kernelspec": {
   "display_name": "Python [conda env:medcat]",
   "language": "python",
   "name": "conda-env-medcat-py"
  },
  "language_info": {
   "codemirror_mode": {
    "name": "ipython",
    "version": 3
   },
   "file_extension": ".py",
   "mimetype": "text/x-python",
   "name": "python",
   "nbconvert_exporter": "python",
   "pygments_lexer": "ipython3",
   "version": "3.8.12"
  }
 },
 "nbformat": 4,
 "nbformat_minor": 5
}
